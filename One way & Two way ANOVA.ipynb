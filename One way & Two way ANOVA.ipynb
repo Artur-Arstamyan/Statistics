{
 "cells": [
  {
   "cell_type": "markdown",
   "metadata": {},
   "source": [
    "**Important Notes on ANOVA Test**\n",
    "\n",
    "- **ANOVA test** is used to check whether the means of **three or more groups** are different or not by using estimation parameters such as **the variance**.\n",
    "- An **ANOVA table** is used to summarize the results of an ANOVA test.\n",
    "- There are two types of ANOVA tests - **one way ANOVA** and **two way ANOVA**\n",
    "- One way ANOVA has **only one** independent variable while a two way ANOVA has **two** independent variables.  \n",
    "\n",
    "\n",
    "For **more statistical tests** check [this](https://www.kaggle.com/code/arthurarstamyan/statistical-tests) notebook."
   ]
  },
  {
   "cell_type": "markdown",
   "metadata": {},
   "source": [
    "# One way ANOVA\n",
    "\n",
    "- One-way ANOVA is used to determine if there are **statistically significant** differences between the means of **three or more independent groups**. \n",
    "- It **extends the t-test** to more than two groups.\n",
    "- The data in each group should be **normally distributed**.\n",
    "- The variances of the groups should be approximately equal (**homoscedasticity**).\n",
    "\n",
    "<img src=\"https://i.postimg.cc/pVQ02693/one-way-anova.jpg\">\n",
    "\n",
    "\n",
    "**Error** is also called **Within Groups** and **SSE** is also written as **SSW(Sum of Squares Within)**  \n",
    "\n",
    "The hypothesis for a one way ANOVA test can be set up as follows:\n",
    "\n",
    "**Null Hypothesis,** H0: μ1 = μ2 = μ3 = ... = μk (The means are equal).  \n",
    "**Alternative Hypothesis,** H1: The means are not equal.\n",
    "\n",
    "**Decision Rule:** If F test statistic > F critical value then reject the null hypothesis and conclude that the means of at least two groups are statistically significant.  \n",
    "\n",
    "**So we need to calculate F test statistic.**  \n",
    "**Step 1:** Calculate the mean for each group.  \n",
    "**Step 2:** Calculate the total mean. This is done by adding all the means and dividing it by the total number of means.  \n",
    "**Step 3:** Calculate the SSB.  \n",
    "**Step 4:** Calculate the between groups degrees of freedom.  \n",
    "**Step 5:** Calculate the SSE(SSW-Sum of Squares Within).  \n",
    "**Step 6:** Calculate the degrees of freedom of errors.  \n",
    "**Step 7:** Determine the MSB and the MSE.  \n",
    "**Step 8:** Find the F test statistic.  \n",
    "**Step 9:** Using the F table for the specified level of significance, α, find the critical value. This is given by F_critical(α, df1, df2).  \n",
    "**Step 10:** If F > F_critical then reject the null hypothesis.\n",
    "\n",
    "\n",
    "**Limitations of One Way ANOVA Test**  \n",
    "The one way ANOVA is an **omnibus test statistic**. This implies that the test will determine whether the means of the various groups are statistically significant or not. However, it cannot **distinguish the specific groups** that have a statistically significant mean. Thus, to find the specific group with a different mean, a **post hoc test** needs to be conducted."
   ]
  },
  {
   "cell_type": "markdown",
   "metadata": {},
   "source": [
    "## Function(One Way ANOVA)"
   ]
  },
  {
   "cell_type": "code",
   "execution_count": null,
   "metadata": {
    "execution": {
     "iopub.execute_input": "2024-10-24T12:15:25.531174Z",
     "iopub.status.busy": "2024-10-24T12:15:25.530722Z",
     "iopub.status.idle": "2024-10-24T12:15:26.952871Z",
     "shell.execute_reply": "2024-10-24T12:15:26.951725Z",
     "shell.execute_reply.started": "2024-10-24T12:15:25.531131Z"
    }
   },
   "outputs": [],
   "source": [
    "import numpy as np\n",
    "import pandas as pd\n",
    "\n",
    "def one_way_anova(df):\n",
    "    group_means = df.mean()\n",
    "    total_mean = group_means.mean()\n",
    "    n, k = df.shape\n",
    "    N = k*n\n",
    "    dfb = k - 1\n",
    "    dfe = N - k\n",
    "    SSB = ((group_means-total_mean)**2)@np.array([n]*k)\n",
    "    SSE = ((df-group_means)**2).sum().sum()\n",
    "    MSB = SSB/dfb\n",
    "    MSE = SSE/dfe\n",
    "    F = MSB/MSE\n",
    "    anova = pd.DataFrame(columns=['Sum of Squares', 'Degrees of freedom', 'Mean Squares', 'F value'])\n",
    "    anova.loc['Between Groups'] = [SSB, dfb, MSB, F]\n",
    "    anova.loc['Error(Within Groups)'] = [SSE, dfe, MSE, '']\n",
    "    anova.loc['Total'] = [SSB+SSE, dfb+dfe, '', '']\n",
    "    return F, anova"
   ]
  },
  {
   "cell_type": "markdown",
   "metadata": {},
   "source": [
    "## Example 1(One Way ANOVA)\n",
    "\n",
    "Three types of fertilizers are used on **three groups of plants for 5 weeks**.\n",
    "We want to check if there is a difference in the mean growth of each group. Using the data given below apply a **one way ANOVA test at 0.05 significant level**.  "
   ]
  },
  {
   "cell_type": "markdown",
   "metadata": {},
   "source": [
    "### Data"
   ]
  },
  {
   "cell_type": "code",
   "execution_count": null,
   "metadata": {
    "execution": {
     "iopub.execute_input": "2024-10-24T12:15:26.955459Z",
     "iopub.status.busy": "2024-10-24T12:15:26.954971Z",
     "iopub.status.idle": "2024-10-24T12:15:26.980544Z",
     "shell.execute_reply": "2024-10-24T12:15:26.979533Z",
     "shell.execute_reply.started": "2024-10-24T12:15:26.955420Z"
    }
   },
   "outputs": [],
   "source": [
    "df = pd.DataFrame({'Fertilizer_1': [6,8,4,5,3,4], 'Fertilizer_2': [8,12,9,11,6,8], 'Fertilizer_3':[13,9,11,8,7,12]})\n",
    "df"
   ]
  },
  {
   "cell_type": "markdown",
   "metadata": {},
   "source": [
    "### Calculations"
   ]
  },
  {
   "cell_type": "code",
   "execution_count": null,
   "metadata": {
    "execution": {
     "iopub.execute_input": "2024-10-24T12:15:26.982724Z",
     "iopub.status.busy": "2024-10-24T12:15:26.982272Z",
     "iopub.status.idle": "2024-10-24T12:15:27.010017Z",
     "shell.execute_reply": "2024-10-24T12:15:27.008714Z",
     "shell.execute_reply.started": "2024-10-24T12:15:26.982676Z"
    }
   },
   "outputs": [],
   "source": [
    "F, anova = one_way_anova(df)\n",
    "display(anova)"
   ]
  },
  {
   "cell_type": "markdown",
   "metadata": {},
   "source": [
    "**F table of critical values of a=0.05** - https://statisticsbyjim.com/wp-content/uploads/2022/02/F-table_Alpha05.png  \n",
    "F_critical(a, dfb, dfe) = F_critical(0.05, 2, 15) = 3.68"
   ]
  },
  {
   "cell_type": "code",
   "execution_count": null,
   "metadata": {
    "execution": {
     "iopub.execute_input": "2024-10-24T12:15:27.013708Z",
     "iopub.status.busy": "2024-10-24T12:15:27.013167Z",
     "iopub.status.idle": "2024-10-24T12:15:27.019041Z",
     "shell.execute_reply": "2024-10-24T12:15:27.017908Z",
     "shell.execute_reply.started": "2024-10-24T12:15:27.013659Z"
    }
   },
   "outputs": [],
   "source": [
    "F_critical = 3.68"
   ]
  },
  {
   "cell_type": "markdown",
   "metadata": {},
   "source": [
    "### Conclusion"
   ]
  },
  {
   "cell_type": "code",
   "execution_count": null,
   "metadata": {
    "execution": {
     "iopub.execute_input": "2024-10-24T12:15:27.020631Z",
     "iopub.status.busy": "2024-10-24T12:15:27.020149Z",
     "iopub.status.idle": "2024-10-24T12:15:27.032456Z",
     "shell.execute_reply": "2024-10-24T12:15:27.031261Z",
     "shell.execute_reply.started": "2024-10-24T12:15:27.020590Z"
    }
   },
   "outputs": [],
   "source": [
    "if F>F_critical:\n",
    "    print('The null hypothesis is rejected')\n",
    "else:\n",
    "    print(\"The null hypothesis can't be rejected\")"
   ]
  },
  {
   "cell_type": "markdown",
   "metadata": {},
   "source": [
    "**So it can be concluded that there is a difference in the mean growth of the plants.**"
   ]
  },
  {
   "cell_type": "markdown",
   "metadata": {},
   "source": [
    "## Example 2(One Way ANOVA)\n",
    "\n",
    "A trial was run to check the effects of **different diets**. Positive numbers indicate weight loss and negative numbers indicate weight gain. Check if there is an average difference in the weight of people following different diets at a **0.05 alpha level** using an ANOVA Table ."
   ]
  },
  {
   "cell_type": "markdown",
   "metadata": {},
   "source": [
    "### Data"
   ]
  },
  {
   "cell_type": "code",
   "execution_count": null,
   "metadata": {
    "execution": {
     "iopub.execute_input": "2024-10-24T12:15:27.034300Z",
     "iopub.status.busy": "2024-10-24T12:15:27.033920Z",
     "iopub.status.idle": "2024-10-24T12:15:27.053868Z",
     "shell.execute_reply": "2024-10-24T12:15:27.052470Z",
     "shell.execute_reply.started": "2024-10-24T12:15:27.034265Z"
    }
   },
   "outputs": [],
   "source": [
    "df = pd.DataFrame({'Low Fat': [8,9,6,7,3], 'Low Calorie': [2,4,3,5,1], \n",
    "                   'Low Protein':[3,5,4,2,3], 'Low Carbohydrate': [2,2,-1,0,3]})\n",
    "df"
   ]
  },
  {
   "cell_type": "markdown",
   "metadata": {},
   "source": [
    "### Calculations"
   ]
  },
  {
   "cell_type": "code",
   "execution_count": null,
   "metadata": {
    "execution": {
     "iopub.execute_input": "2024-10-24T12:15:27.055869Z",
     "iopub.status.busy": "2024-10-24T12:15:27.055238Z",
     "iopub.status.idle": "2024-10-24T12:15:27.075745Z",
     "shell.execute_reply": "2024-10-24T12:15:27.074169Z",
     "shell.execute_reply.started": "2024-10-24T12:15:27.055818Z"
    }
   },
   "outputs": [],
   "source": [
    "F, anova = one_way_anova(df)\n",
    "display(anova)"
   ]
  },
  {
   "cell_type": "markdown",
   "metadata": {},
   "source": [
    "**F table of critical values of a=0.05** - https://statisticsbyjim.com/wp-content/uploads/2022/02/F-table_Alpha05.png  \n",
    "F_critical(a, dfb, dfe) = F_critical(0.05, 3, 16) = 3.24"
   ]
  },
  {
   "cell_type": "code",
   "execution_count": null,
   "metadata": {
    "execution": {
     "iopub.execute_input": "2024-10-24T12:15:27.078465Z",
     "iopub.status.busy": "2024-10-24T12:15:27.077858Z",
     "iopub.status.idle": "2024-10-24T12:15:27.085617Z",
     "shell.execute_reply": "2024-10-24T12:15:27.084493Z",
     "shell.execute_reply.started": "2024-10-24T12:15:27.078407Z"
    }
   },
   "outputs": [],
   "source": [
    "F_critical = 3.24"
   ]
  },
  {
   "cell_type": "markdown",
   "metadata": {},
   "source": [
    "### Conclusion"
   ]
  },
  {
   "cell_type": "code",
   "execution_count": null,
   "metadata": {
    "execution": {
     "iopub.execute_input": "2024-10-24T12:17:00.509454Z",
     "iopub.status.busy": "2024-10-24T12:17:00.509000Z",
     "iopub.status.idle": "2024-10-24T12:17:00.516225Z",
     "shell.execute_reply": "2024-10-24T12:17:00.514842Z",
     "shell.execute_reply.started": "2024-10-24T12:17:00.509413Z"
    }
   },
   "outputs": [],
   "source": [
    "if F>F_critical:\n",
    "    print('The null hypothesis is rejected')\n",
    "else:\n",
    "    print(\"The null hypothesis can't be rejected\")"
   ]
  },
  {
   "cell_type": "markdown",
   "metadata": {},
   "source": [
    "**So there is an average difference in the weight of people following different diets**"
   ]
  },
  {
   "cell_type": "markdown",
   "metadata": {},
   "source": [
    "## Example 3(One Way ANOVA)\n",
    "\n",
    "Determine if there is a difference in the mean daily calcium intake for people with **normal bone density**, **osteopenia**, and **osteoporosis** at a **0.05 alpha level**."
   ]
  },
  {
   "cell_type": "markdown",
   "metadata": {},
   "source": [
    "### Data"
   ]
  },
  {
   "cell_type": "code",
   "execution_count": null,
   "metadata": {
    "execution": {
     "iopub.execute_input": "2024-10-24T12:17:03.717221Z",
     "iopub.status.busy": "2024-10-24T12:17:03.715866Z",
     "iopub.status.idle": "2024-10-24T12:17:03.729717Z",
     "shell.execute_reply": "2024-10-24T12:17:03.728229Z",
     "shell.execute_reply.started": "2024-10-24T12:17:03.717172Z"
    }
   },
   "outputs": [],
   "source": [
    "df = pd.DataFrame({'Normal Density': [1200,1000,980,900,750,800], 'Osteopenia': [1000,1100,700,800,500,700], \n",
    "                   'Osteoporosis':[890,650,1100,900,400,350]})\n",
    "df"
   ]
  },
  {
   "cell_type": "markdown",
   "metadata": {},
   "source": [
    "### Calculations"
   ]
  },
  {
   "cell_type": "code",
   "execution_count": null,
   "metadata": {
    "execution": {
     "iopub.execute_input": "2024-10-24T12:17:04.138405Z",
     "iopub.status.busy": "2024-10-24T12:17:04.137939Z",
     "iopub.status.idle": "2024-10-24T12:17:04.160829Z",
     "shell.execute_reply": "2024-10-24T12:17:04.159305Z",
     "shell.execute_reply.started": "2024-10-24T12:17:04.138348Z"
    }
   },
   "outputs": [],
   "source": [
    "F, anova = one_way_anova(df)\n",
    "display(anova)"
   ]
  },
  {
   "cell_type": "markdown",
   "metadata": {},
   "source": [
    "**F table of critical values of a=0.05** - https://statisticsbyjim.com/wp-content/uploads/2022/02/F-table_Alpha05.png   \n",
    "F_critical(a, dfb, dfe) = F_critical(0.05, 2, 15) = 3.68"
   ]
  },
  {
   "cell_type": "code",
   "execution_count": null,
   "metadata": {
    "execution": {
     "iopub.execute_input": "2024-10-24T12:17:04.524268Z",
     "iopub.status.busy": "2024-10-24T12:17:04.523876Z",
     "iopub.status.idle": "2024-10-24T12:17:04.530069Z",
     "shell.execute_reply": "2024-10-24T12:17:04.528591Z",
     "shell.execute_reply.started": "2024-10-24T12:17:04.524233Z"
    }
   },
   "outputs": [],
   "source": [
    "F_critical = 3.68"
   ]
  },
  {
   "cell_type": "markdown",
   "metadata": {},
   "source": [
    "### Conclusion"
   ]
  },
  {
   "cell_type": "code",
   "execution_count": null,
   "metadata": {
    "execution": {
     "iopub.execute_input": "2024-10-24T12:17:04.890564Z",
     "iopub.status.busy": "2024-10-24T12:17:04.890078Z",
     "iopub.status.idle": "2024-10-24T12:17:04.897313Z",
     "shell.execute_reply": "2024-10-24T12:17:04.895876Z",
     "shell.execute_reply.started": "2024-10-24T12:17:04.890520Z"
    }
   },
   "outputs": [],
   "source": [
    "if F>F_critical:\n",
    "    print('The null hypothesis is rejected')\n",
    "else:\n",
    "    print(\"The null hypothesis can't be rejected\")"
   ]
  },
  {
   "cell_type": "markdown",
   "metadata": {},
   "source": [
    "**So there is not enough evidence to prove that the mean daily calcium intake of the three groups is different**"
   ]
  },
  {
   "cell_type": "markdown",
   "metadata": {},
   "source": [
    "# Two way ANOVA\n",
    "\n",
    "<img src='https://i.postimg.cc/59m3cQTV/two-way-anova.jpg' width=800 height=400>\n",
    "\n",
    "In order to use a two-way ANOVA, the dataset should have **two independent variables**. Thus, it can be thought of as an **extension of a one way ANOVA** where only one variable affects the dependent variable. These variables are called **factors**, each with more than one level. For example, if one of the factors is **color**, the levels within the factor may be **light**, **neutral**, and **dark**. If the dataset fits these requirements and a person wants to know how the two factors affect the response variable, two-way ANOVA is likely a good method to use. A two way ANOVA test is used to check the main **effect of each independent variable** and to see if there is an **interaction effect** between them. To examine the main effect, each factor is considered separately as done in a **one way ANOVA**. Furthermore, to check the **interaction effect**, all factors are considered at the same time. \n",
    "\n",
    "There are **4** assumptions that must be met **before** using two-way ANOVA:  \n",
    "- **Normality**: Observations from the sample population are normally distributed.\n",
    "- **Sample Size**: The number of observations must be the same for each group.\n",
    "- **Equal Variances**: The variances for each group are equal.\n",
    "- **Independence**: Observations in each group are independent.\n",
    "\n",
    "When performing a two-way ANOVA, there are **3 hypotheses** to test. The first two determine whether **each factor** has an effect on **the response variable**, and the third one decides if there is any **interaction** between the two factors.\n",
    "\n",
    "- **Null Hypothesis #1**: The population means of the first factor are the same.\n",
    "- **Null Hypothesis #2**: The population means of the second factor are the same.\n",
    "- **Null Hypothesis #3**: There are no interaction effects between the factors."
   ]
  },
  {
   "cell_type": "markdown",
   "metadata": {},
   "source": [
    "## Function(Two Way ANOVA)"
   ]
  },
  {
   "cell_type": "code",
   "execution_count": null,
   "metadata": {
    "execution": {
     "iopub.execute_input": "2024-10-24T12:17:05.562885Z",
     "iopub.status.busy": "2024-10-24T12:17:05.561875Z",
     "iopub.status.idle": "2024-10-24T12:17:05.577102Z",
     "shell.execute_reply": "2024-10-24T12:17:05.575673Z",
     "shell.execute_reply.started": "2024-10-24T12:17:05.562824Z"
    }
   },
   "outputs": [],
   "source": [
    "import numpy as np\n",
    "import pandas as pd\n",
    "\n",
    "def two_way_anova(df):  \n",
    "    n, n_factorB_groups = df.shape\n",
    "    N = n*n_factorB_groups\n",
    "    n_factorA_groups = len(df.index.unique())\n",
    "    n_group_observations = n/n_factorA_groups\n",
    "\n",
    "    total_mean = df.mean().mean()\n",
    "\n",
    "    SSW = 0\n",
    "    factorA_means = []\n",
    "    for index in df.index.unique(): \n",
    "        factorA_means.append(df[df.index == index].mean().mean())\n",
    "        for column in df.columns: \n",
    "            group = df[df.index == index][column]\n",
    "            SSW += ((group-group.mean())**2).sum()\n",
    "\n",
    "    factorB_means = []\n",
    "    for column in df.columns: \n",
    "        factorB_means.append(df[column].mean())\n",
    "\n",
    "    SSA = (((factorA_means-total_mean)**2)@np.array([n_group_observations*n_factorB_groups]*n_factorA_groups)).round(2)\n",
    "    SSB = (((factorB_means-total_mean)**2)@np.array([n_group_observations*n_factorA_groups]*n_factorB_groups)).round(2)\n",
    "    SST = (((df-total_mean)**2).sum().sum()).round(2)\n",
    "    SSAB = (SST - (SSA+SSB+SSW)).round(2)\n",
    "\n",
    "    dfA, dfB = n_factorA_groups-1, n_factorB_groups-1\n",
    "    dfAB = dfA * dfB\n",
    "    dfW = N - n_factorA_groups * n_factorB_groups\n",
    "    dfTotal = N-1\n",
    "\n",
    "    MSA, MSB, MSAB, MSW = SSA/dfA, SSB/dfB, SSAB/dfAB, SSW/dfW\n",
    "    FA, FB, FAB = MSA/MSW, MSB/MSW, MSAB/MSW\n",
    "    Fs = [FA, FB, FAB]\n",
    "\n",
    "    anova = pd.DataFrame(columns=['Sum of Squares', 'Degrees of freedom', 'Mean Squares', 'F value'])\n",
    "    anova.loc['Factor A'] = [SSA, dfA, MSA, FA]\n",
    "    anova.loc['Factor B'] = [SSB, dfB, MSB, FB]\n",
    "    anova.loc['Interaction effect'] = [SSAB, dfAB, MSAB, FAB]\n",
    "    anova.loc['Within(Error))'] = [SSW, dfW, MSW, '']\n",
    "    anova.loc['Total'] = [SST, dfTotal, '', '']\n",
    "    \n",
    "    return Fs, anova"
   ]
  },
  {
   "cell_type": "markdown",
   "metadata": {},
   "source": [
    "## Example 1(Two Way ANOVA)\n",
    "\n",
    "A farmer wants to see if there is a difference in the **average height** for two new **strains of hemp plants**. They believe there also may be some **interaction with different soil types** so they plant 5 hemp plants of each strain in 4 types of soil: **sandy**, **clay**, **loam** and **silt**. At **α = 0.01**, analyze the data shown, using a two-way ANOVA."
   ]
  },
  {
   "cell_type": "markdown",
   "metadata": {},
   "source": [
    "### Data"
   ]
  },
  {
   "cell_type": "code",
   "execution_count": null,
   "metadata": {
    "execution": {
     "iopub.execute_input": "2024-10-24T12:17:06.130277Z",
     "iopub.status.busy": "2024-10-24T12:17:06.129867Z",
     "iopub.status.idle": "2024-10-24T12:17:06.145672Z",
     "shell.execute_reply": "2024-10-24T12:17:06.144374Z",
     "shell.execute_reply.started": "2024-10-24T12:17:06.130238Z"
    }
   },
   "outputs": [],
   "source": [
    "df = pd.DataFrame({'Sandy':[60,53,58,62,57,36,41,54,65,53], 'Clay': [54,63,62,71,76,62,61,77,53,64],\n",
    "                   'Loam': [80,82,62,88,71,68,72,71,82,86], 'Silt': [62,76,55,48,61,63,65,72,71,63]}, \n",
    "                  index=['Strain A']*5+['Strain B']*5)\n",
    "df"
   ]
  },
  {
   "cell_type": "markdown",
   "metadata": {},
   "source": [
    "### Calculations"
   ]
  },
  {
   "cell_type": "code",
   "execution_count": null,
   "metadata": {
    "execution": {
     "iopub.execute_input": "2024-10-24T12:17:07.636114Z",
     "iopub.status.busy": "2024-10-24T12:17:07.635679Z",
     "iopub.status.idle": "2024-10-24T12:17:07.673453Z",
     "shell.execute_reply": "2024-10-24T12:17:07.672169Z",
     "shell.execute_reply.started": "2024-10-24T12:17:07.636073Z"
    }
   },
   "outputs": [],
   "source": [
    "Fs, anova = two_way_anova(df)\n",
    "display(anova)"
   ]
  },
  {
   "cell_type": "markdown",
   "metadata": {},
   "source": [
    "**F table of critical values of a=0.01** - https://statisticsbyjim.com/wp-content/uploads/2022/02/F-table_Alpha01.png  \n",
    "**F_criticals** = [**F_critical(**0.01, dfA(1), dfW(32)**)**, **F_critical(**0.01, dfB(3), dfW(32)**)**, **F_critical(**0.01, dfAB(3), dfW(32)**)**] =  [7.4993, 4.4594, 4.4594]"
   ]
  },
  {
   "cell_type": "code",
   "execution_count": null,
   "metadata": {
    "execution": {
     "iopub.execute_input": "2024-10-24T12:17:07.676793Z",
     "iopub.status.busy": "2024-10-24T12:17:07.675729Z",
     "iopub.status.idle": "2024-10-24T12:17:07.681925Z",
     "shell.execute_reply": "2024-10-24T12:17:07.680765Z",
     "shell.execute_reply.started": "2024-10-24T12:17:07.676732Z"
    }
   },
   "outputs": [],
   "source": [
    "F_criticals = [7.4993, 4.4594, 4.4594]"
   ]
  },
  {
   "cell_type": "markdown",
   "metadata": {},
   "source": [
    "### Conclusions"
   ]
  },
  {
   "cell_type": "code",
   "execution_count": null,
   "metadata": {
    "execution": {
     "iopub.execute_input": "2024-10-24T12:17:07.694193Z",
     "iopub.status.busy": "2024-10-24T12:17:07.693804Z",
     "iopub.status.idle": "2024-10-24T12:17:07.701166Z",
     "shell.execute_reply": "2024-10-24T12:17:07.699991Z",
     "shell.execute_reply.started": "2024-10-24T12:17:07.694157Z"
    }
   },
   "outputs": [],
   "source": [
    "for i in range(3):\n",
    "    if Fs[i]>F_criticals[i]:\n",
    "        print(f'The Null Hypothesis #{i+1} is rejected')\n",
    "    else:\n",
    "        print(f\"The Null Hypothesis #{i+1} can't be rejected\")"
   ]
  },
  {
   "cell_type": "markdown",
   "metadata": {},
   "source": [
    "**So**\n",
    "- There is **no significant difference** in the mean plant height between the **two hemp strains**.\n",
    "- The **type of soil** has a **significant effect** on the mean plant height.\n",
    "- There is **no significant interaction** effect **between** the hemp strain and the soil type on the mean plant height."
   ]
  }
 ],
 "metadata": {
  "kaggle": {
   "accelerator": "none",
   "dataSources": [],
   "dockerImageVersionId": 30786,
   "isGpuEnabled": false,
   "isInternetEnabled": true,
   "language": "python",
   "sourceType": "notebook"
  },
  "kernelspec": {
   "display_name": "Python 3 (ipykernel)",
   "language": "python",
   "name": "python3"
  },
  "language_info": {
   "codemirror_mode": {
    "name": "ipython",
    "version": 3
   },
   "file_extension": ".py",
   "mimetype": "text/x-python",
   "name": "python",
   "nbconvert_exporter": "python",
   "pygments_lexer": "ipython3",
   "version": "3.9.13"
  }
 },
 "nbformat": 4,
 "nbformat_minor": 4
}
