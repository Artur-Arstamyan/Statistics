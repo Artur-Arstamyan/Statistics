{
 "cells": [
  {
   "cell_type": "markdown",
   "id": "895e0c23",
   "metadata": {},
   "source": [
    "**Important Notes on ANOVA Test**\n",
    "\n",
    "- **ANOVA test** is used to check whether the means of **three or more groups** are different or not by using estimation parameters such as **the variance**.\n",
    "- An **ANOVA table** is used to summarize the results of an ANOVA test.\n",
    "- There are two types of ANOVA tests - **one way ANOVA** and **two way ANOVA**\n",
    "- One way ANOVA has **only one** independent variable while a two way ANOVA has **two** independent variables."
   ]
  },
  {
   "cell_type": "markdown",
   "id": "483e00a3",
   "metadata": {},
   "source": [
    "# One way ANOVA\n",
    "\n",
    "- One-way ANOVA is used to determine if there are **statistically significant** differences between the means of **three or more independent groups**. \n",
    "- It **extends the t-test** to more than two groups.\n",
    "- The data in each group should be **normally distributed**.\n",
    "- The variances of the groups should be approximately equal (**homoscedasticity**).\n",
    "\n",
    "<img src=\"https://i.postimg.cc/pVQ02693/one-way-anova.jpg\">\n",
    "\n",
    "\n",
    "**Error** is also called **Within Groups** and **SSE** is also written as **SSW(Sum of Squares Within)**  \n",
    "\n",
    "The hypothesis for a one way ANOVA test can be set up as follows:\n",
    "\n",
    "**Null Hypothesis,** H0: μ1 = μ2 = μ3 = ... = μk (The means are equal).  \n",
    "**Alternative Hypothesis,** H1: The means are not equal.\n",
    "\n",
    "**Decision Rule:** If F test statistic > F critical value then reject the null hypothesis and conclude that the means of at least two groups are statistically significant.  \n",
    "\n",
    "**So we need to calculate F test statistic.**  \n",
    "**Step 1:** Calculate the mean for each group.  \n",
    "**Step 2:** Calculate the total mean. This is done by adding all the means and dividing it by the total number of means.  \n",
    "**Step 3:** Calculate the SSB.  \n",
    "**Step 4:** Calculate the between groups degrees of freedom.  \n",
    "**Step 5:** Calculate the SSE(SSW-Sum of Squares Within).  \n",
    "**Step 6:** Calculate the degrees of freedom of errors.  \n",
    "**Step 7:** Determine the MSB and the MSE.  \n",
    "**Step 8:** Find the F test statistic.  \n",
    "**Step 9:** Using the F table for the specified level of significance, α, find the critical value. This is given by F_critical(α, df1, df2).  \n",
    "**Step 10:** If F > F_critical then reject the null hypothesis.\n",
    "\n",
    "\n",
    "**Limitations of One Way ANOVA Test**  \n",
    "The one way ANOVA is an **omnibus test statistic**. This implies that the test will determine whether the means of the various groups are statistically significant or not. However, it cannot **distinguish the specific groups** that have a statistically significant mean. Thus, to find the specific group with a different mean, a **post hoc test** needs to be conducted."
   ]
  },
  {
   "cell_type": "markdown",
   "id": "ef578ffb",
   "metadata": {},
   "source": [
    "## Function"
   ]
  },
  {
   "cell_type": "code",
   "execution_count": 32,
   "id": "b5852070",
   "metadata": {},
   "outputs": [],
   "source": [
    "import numpy as np\n",
    "import pandas as pd\n",
    "\n",
    "def one_way_anova(df):\n",
    "    group_means = df.mean()\n",
    "    total_mean = group_means.mean()\n",
    "    n, k = df.shape\n",
    "    N = k*n\n",
    "    dfb = k - 1\n",
    "    dfe = N - k\n",
    "    SSB = ((group_means-total_mean)**2)@np.array([n]*k)\n",
    "    SSE = ((df-group_means)**2).sum().sum()\n",
    "    MSB = SSB/dfb\n",
    "    MSE = SSE/dfe\n",
    "    F = MSB/MSE\n",
    "    anova = pd.DataFrame(columns=['Sum of Squares', 'Degrees of freedom', 'Mean Squares', 'F value'])\n",
    "    anova.loc['Between Groups'] = [SSB, dfb, MSB, F]\n",
    "    anova.loc['Error(Within Groups)'] = [SSE, dfe, MSE, '']\n",
    "    anova.loc['Total'] = [SSB+SSE, dfb+dfe, '', '']\n",
    "    return F, anova\n",
    "    "
   ]
  },
  {
   "cell_type": "markdown",
   "id": "fea8f1c3",
   "metadata": {},
   "source": [
    "## Example 1\n",
    "\n",
    "Three types of fertilizers are used on **three groups of plants for 5 weeks**.\n",
    "We want to check if there is a difference in the mean growth of each group. Using the data given below apply a **one way ANOVA test at 0.05 significant level**.  "
   ]
  },
  {
   "cell_type": "markdown",
   "id": "808c1671",
   "metadata": {},
   "source": [
    "### Data"
   ]
  },
  {
   "cell_type": "code",
   "execution_count": 33,
   "id": "386ae31e",
   "metadata": {},
   "outputs": [
    {
     "data": {
      "text/html": [
       "<div>\n",
       "<style scoped>\n",
       "    .dataframe tbody tr th:only-of-type {\n",
       "        vertical-align: middle;\n",
       "    }\n",
       "\n",
       "    .dataframe tbody tr th {\n",
       "        vertical-align: top;\n",
       "    }\n",
       "\n",
       "    .dataframe thead th {\n",
       "        text-align: right;\n",
       "    }\n",
       "</style>\n",
       "<table border=\"1\" class=\"dataframe\">\n",
       "  <thead>\n",
       "    <tr style=\"text-align: right;\">\n",
       "      <th></th>\n",
       "      <th>Fertilizer_1</th>\n",
       "      <th>Fertilizer_2</th>\n",
       "      <th>Fertilizer_3</th>\n",
       "    </tr>\n",
       "  </thead>\n",
       "  <tbody>\n",
       "    <tr>\n",
       "      <th>0</th>\n",
       "      <td>6</td>\n",
       "      <td>8</td>\n",
       "      <td>13</td>\n",
       "    </tr>\n",
       "    <tr>\n",
       "      <th>1</th>\n",
       "      <td>8</td>\n",
       "      <td>12</td>\n",
       "      <td>9</td>\n",
       "    </tr>\n",
       "    <tr>\n",
       "      <th>2</th>\n",
       "      <td>4</td>\n",
       "      <td>9</td>\n",
       "      <td>11</td>\n",
       "    </tr>\n",
       "    <tr>\n",
       "      <th>3</th>\n",
       "      <td>5</td>\n",
       "      <td>11</td>\n",
       "      <td>8</td>\n",
       "    </tr>\n",
       "    <tr>\n",
       "      <th>4</th>\n",
       "      <td>3</td>\n",
       "      <td>6</td>\n",
       "      <td>7</td>\n",
       "    </tr>\n",
       "    <tr>\n",
       "      <th>5</th>\n",
       "      <td>4</td>\n",
       "      <td>8</td>\n",
       "      <td>12</td>\n",
       "    </tr>\n",
       "  </tbody>\n",
       "</table>\n",
       "</div>"
      ],
      "text/plain": [
       "   Fertilizer_1  Fertilizer_2  Fertilizer_3\n",
       "0             6             8            13\n",
       "1             8            12             9\n",
       "2             4             9            11\n",
       "3             5            11             8\n",
       "4             3             6             7\n",
       "5             4             8            12"
      ]
     },
     "execution_count": 33,
     "metadata": {},
     "output_type": "execute_result"
    }
   ],
   "source": [
    "df = pd.DataFrame({'Fertilizer_1': [6,8,4,5,3,4], 'Fertilizer_2': [8,12,9,11,6,8], 'Fertilizer_3':[13,9,11,8,7,12]})\n",
    "df"
   ]
  },
  {
   "cell_type": "markdown",
   "id": "e52b1391",
   "metadata": {},
   "source": [
    "### Calculations"
   ]
  },
  {
   "cell_type": "code",
   "execution_count": 34,
   "id": "0b63d32c",
   "metadata": {},
   "outputs": [
    {
     "data": {
      "text/html": [
       "<div>\n",
       "<style scoped>\n",
       "    .dataframe tbody tr th:only-of-type {\n",
       "        vertical-align: middle;\n",
       "    }\n",
       "\n",
       "    .dataframe tbody tr th {\n",
       "        vertical-align: top;\n",
       "    }\n",
       "\n",
       "    .dataframe thead th {\n",
       "        text-align: right;\n",
       "    }\n",
       "</style>\n",
       "<table border=\"1\" class=\"dataframe\">\n",
       "  <thead>\n",
       "    <tr style=\"text-align: right;\">\n",
       "      <th></th>\n",
       "      <th>Sum of Squares</th>\n",
       "      <th>Degrees of freedom</th>\n",
       "      <th>Mean Squares</th>\n",
       "      <th>F value</th>\n",
       "    </tr>\n",
       "  </thead>\n",
       "  <tbody>\n",
       "    <tr>\n",
       "      <th>Between Groups</th>\n",
       "      <td>84.0</td>\n",
       "      <td>2.0</td>\n",
       "      <td>42.0</td>\n",
       "      <td>9.264706</td>\n",
       "    </tr>\n",
       "    <tr>\n",
       "      <th>Error(Within Groups)</th>\n",
       "      <td>68.0</td>\n",
       "      <td>15.0</td>\n",
       "      <td>4.533333</td>\n",
       "      <td></td>\n",
       "    </tr>\n",
       "    <tr>\n",
       "      <th>Total</th>\n",
       "      <td>152.0</td>\n",
       "      <td>17.0</td>\n",
       "      <td></td>\n",
       "      <td></td>\n",
       "    </tr>\n",
       "  </tbody>\n",
       "</table>\n",
       "</div>"
      ],
      "text/plain": [
       "                      Sum of Squares  Degrees of freedom Mean Squares  \\\n",
       "Between Groups                  84.0                 2.0         42.0   \n",
       "Error(Within Groups)            68.0                15.0     4.533333   \n",
       "Total                          152.0                17.0                \n",
       "\n",
       "                       F value  \n",
       "Between Groups        9.264706  \n",
       "Error(Within Groups)            \n",
       "Total                           "
      ]
     },
     "metadata": {},
     "output_type": "display_data"
    }
   ],
   "source": [
    "F, anova = one_way_anova(df)\n",
    "display(anova)"
   ]
  },
  {
   "cell_type": "markdown",
   "id": "2c812374",
   "metadata": {},
   "source": [
    "**F table of critical values of a=0.05** - https://statisticsbyjim.com/wp-content/uploads/2022/02/F-table_Alpha05.png  \n",
    "F_critical(a, dfb, dfe) = F_critical(0.05, 2, 15) = 3.68"
   ]
  },
  {
   "cell_type": "code",
   "execution_count": 35,
   "id": "5bde0003",
   "metadata": {},
   "outputs": [],
   "source": [
    "F_critical = 3.68"
   ]
  },
  {
   "cell_type": "markdown",
   "id": "59a457b7",
   "metadata": {},
   "source": [
    "### Conclusion"
   ]
  },
  {
   "cell_type": "code",
   "execution_count": 36,
   "id": "d592cb55",
   "metadata": {},
   "outputs": [
    {
     "name": "stdout",
     "output_type": "stream",
     "text": [
      "The null hypothesis is rejected\n"
     ]
    }
   ],
   "source": [
    "if F>F_critical:\n",
    "    print('The null hypothesis is rejected')\n",
    "else:\n",
    "    print(\"The null hypothesis can't be rejected\")"
   ]
  },
  {
   "cell_type": "markdown",
   "id": "385cf46f",
   "metadata": {},
   "source": [
    "**So it can be concluded that there is a difference in the mean growth of the plants.**"
   ]
  },
  {
   "cell_type": "markdown",
   "id": "449f68d1",
   "metadata": {},
   "source": [
    "## Example 2\n",
    "\n",
    "A trial was run to check the effects of **different diets**. Positive numbers indicate weight loss and negative numbers indicate weight gain. Check if there is an average difference in the weight of people following different diets at a **0.05 alpha level** using an ANOVA Table ."
   ]
  },
  {
   "cell_type": "markdown",
   "id": "5eaf9509",
   "metadata": {},
   "source": [
    "### Data"
   ]
  },
  {
   "cell_type": "code",
   "execution_count": 37,
   "id": "ff8aa4df",
   "metadata": {},
   "outputs": [
    {
     "data": {
      "text/html": [
       "<div>\n",
       "<style scoped>\n",
       "    .dataframe tbody tr th:only-of-type {\n",
       "        vertical-align: middle;\n",
       "    }\n",
       "\n",
       "    .dataframe tbody tr th {\n",
       "        vertical-align: top;\n",
       "    }\n",
       "\n",
       "    .dataframe thead th {\n",
       "        text-align: right;\n",
       "    }\n",
       "</style>\n",
       "<table border=\"1\" class=\"dataframe\">\n",
       "  <thead>\n",
       "    <tr style=\"text-align: right;\">\n",
       "      <th></th>\n",
       "      <th>Low Fat</th>\n",
       "      <th>Low Calorie</th>\n",
       "      <th>Low Protein</th>\n",
       "      <th>Low Carbohydrate</th>\n",
       "    </tr>\n",
       "  </thead>\n",
       "  <tbody>\n",
       "    <tr>\n",
       "      <th>0</th>\n",
       "      <td>8</td>\n",
       "      <td>2</td>\n",
       "      <td>3</td>\n",
       "      <td>2</td>\n",
       "    </tr>\n",
       "    <tr>\n",
       "      <th>1</th>\n",
       "      <td>9</td>\n",
       "      <td>4</td>\n",
       "      <td>5</td>\n",
       "      <td>2</td>\n",
       "    </tr>\n",
       "    <tr>\n",
       "      <th>2</th>\n",
       "      <td>6</td>\n",
       "      <td>3</td>\n",
       "      <td>4</td>\n",
       "      <td>-1</td>\n",
       "    </tr>\n",
       "    <tr>\n",
       "      <th>3</th>\n",
       "      <td>7</td>\n",
       "      <td>5</td>\n",
       "      <td>2</td>\n",
       "      <td>0</td>\n",
       "    </tr>\n",
       "    <tr>\n",
       "      <th>4</th>\n",
       "      <td>3</td>\n",
       "      <td>1</td>\n",
       "      <td>3</td>\n",
       "      <td>3</td>\n",
       "    </tr>\n",
       "  </tbody>\n",
       "</table>\n",
       "</div>"
      ],
      "text/plain": [
       "   Low Fat  Low Calorie  Low Protein  Low Carbohydrate\n",
       "0        8            2            3                 2\n",
       "1        9            4            5                 2\n",
       "2        6            3            4                -1\n",
       "3        7            5            2                 0\n",
       "4        3            1            3                 3"
      ]
     },
     "execution_count": 37,
     "metadata": {},
     "output_type": "execute_result"
    }
   ],
   "source": [
    "df = pd.DataFrame({'Low Fat': [8,9,6,7,3], 'Low Calorie': [2,4,3,5,1], \n",
    "                   'Low Protein':[3,5,4,2,3], 'Low Carbohydrate': [2,2,-1,0,3]})\n",
    "df"
   ]
  },
  {
   "cell_type": "markdown",
   "id": "addc403f",
   "metadata": {},
   "source": [
    "### Calculations"
   ]
  },
  {
   "cell_type": "code",
   "execution_count": 38,
   "id": "6e6e3840",
   "metadata": {},
   "outputs": [
    {
     "data": {
      "text/html": [
       "<div>\n",
       "<style scoped>\n",
       "    .dataframe tbody tr th:only-of-type {\n",
       "        vertical-align: middle;\n",
       "    }\n",
       "\n",
       "    .dataframe tbody tr th {\n",
       "        vertical-align: top;\n",
       "    }\n",
       "\n",
       "    .dataframe thead th {\n",
       "        text-align: right;\n",
       "    }\n",
       "</style>\n",
       "<table border=\"1\" class=\"dataframe\">\n",
       "  <thead>\n",
       "    <tr style=\"text-align: right;\">\n",
       "      <th></th>\n",
       "      <th>Sum of Squares</th>\n",
       "      <th>Degrees of freedom</th>\n",
       "      <th>Mean Squares</th>\n",
       "      <th>F value</th>\n",
       "    </tr>\n",
       "  </thead>\n",
       "  <tbody>\n",
       "    <tr>\n",
       "      <th>Between Groups</th>\n",
       "      <td>75.75</td>\n",
       "      <td>3.0</td>\n",
       "      <td>25.25</td>\n",
       "      <td>8.559322</td>\n",
       "    </tr>\n",
       "    <tr>\n",
       "      <th>Error(Within Groups)</th>\n",
       "      <td>47.20</td>\n",
       "      <td>16.0</td>\n",
       "      <td>2.95</td>\n",
       "      <td></td>\n",
       "    </tr>\n",
       "    <tr>\n",
       "      <th>Total</th>\n",
       "      <td>122.95</td>\n",
       "      <td>19.0</td>\n",
       "      <td></td>\n",
       "      <td></td>\n",
       "    </tr>\n",
       "  </tbody>\n",
       "</table>\n",
       "</div>"
      ],
      "text/plain": [
       "                      Sum of Squares  Degrees of freedom Mean Squares  \\\n",
       "Between Groups                 75.75                 3.0        25.25   \n",
       "Error(Within Groups)           47.20                16.0         2.95   \n",
       "Total                         122.95                19.0                \n",
       "\n",
       "                       F value  \n",
       "Between Groups        8.559322  \n",
       "Error(Within Groups)            \n",
       "Total                           "
      ]
     },
     "metadata": {},
     "output_type": "display_data"
    }
   ],
   "source": [
    "F, anova = one_way_anova(df)\n",
    "display(anova)"
   ]
  },
  {
   "cell_type": "markdown",
   "id": "21d67be9",
   "metadata": {},
   "source": [
    "**F table of critical values of a=0.05** - https://statisticsbyjim.com/wp-content/uploads/2022/02/F-table_Alpha05.png  \n",
    "F_critical(a, dfb, dfe) = F_critical(0.05, 3, 16) = 3.24"
   ]
  },
  {
   "cell_type": "code",
   "execution_count": 39,
   "id": "4619ba9c",
   "metadata": {},
   "outputs": [],
   "source": [
    "F_critical = 3.24"
   ]
  },
  {
   "cell_type": "markdown",
   "id": "d3be8bc2",
   "metadata": {},
   "source": [
    "### Conclusion"
   ]
  },
  {
   "cell_type": "code",
   "execution_count": 40,
   "id": "555bcd47",
   "metadata": {},
   "outputs": [
    {
     "name": "stdout",
     "output_type": "stream",
     "text": [
      "The null hypothesis is rejected\n"
     ]
    }
   ],
   "source": [
    "if F>F_critical:\n",
    "    print('The null hypothesis is rejected')\n",
    "else:\n",
    "    print(\"The null hypothesis can't be rejected\")"
   ]
  },
  {
   "cell_type": "markdown",
   "id": "86053601",
   "metadata": {},
   "source": [
    "**So there is an average difference in the weight of people following different diets**"
   ]
  },
  {
   "cell_type": "markdown",
   "id": "7b79e384",
   "metadata": {},
   "source": [
    "## Example 3\n",
    "\n",
    "Determine if there is a difference in the mean daily calcium intake for people with **normal bone density**, **osteopenia**, and **osteoporosis** at a **0.05 alpha level**."
   ]
  },
  {
   "cell_type": "markdown",
   "id": "2b628f94",
   "metadata": {},
   "source": [
    "### Data"
   ]
  },
  {
   "cell_type": "code",
   "execution_count": 41,
   "id": "556c1941",
   "metadata": {},
   "outputs": [
    {
     "data": {
      "text/html": [
       "<div>\n",
       "<style scoped>\n",
       "    .dataframe tbody tr th:only-of-type {\n",
       "        vertical-align: middle;\n",
       "    }\n",
       "\n",
       "    .dataframe tbody tr th {\n",
       "        vertical-align: top;\n",
       "    }\n",
       "\n",
       "    .dataframe thead th {\n",
       "        text-align: right;\n",
       "    }\n",
       "</style>\n",
       "<table border=\"1\" class=\"dataframe\">\n",
       "  <thead>\n",
       "    <tr style=\"text-align: right;\">\n",
       "      <th></th>\n",
       "      <th>Normal Density</th>\n",
       "      <th>Osteopenia</th>\n",
       "      <th>Osteoporosis</th>\n",
       "    </tr>\n",
       "  </thead>\n",
       "  <tbody>\n",
       "    <tr>\n",
       "      <th>0</th>\n",
       "      <td>1200</td>\n",
       "      <td>1000</td>\n",
       "      <td>890</td>\n",
       "    </tr>\n",
       "    <tr>\n",
       "      <th>1</th>\n",
       "      <td>1000</td>\n",
       "      <td>1100</td>\n",
       "      <td>650</td>\n",
       "    </tr>\n",
       "    <tr>\n",
       "      <th>2</th>\n",
       "      <td>980</td>\n",
       "      <td>700</td>\n",
       "      <td>1100</td>\n",
       "    </tr>\n",
       "    <tr>\n",
       "      <th>3</th>\n",
       "      <td>900</td>\n",
       "      <td>800</td>\n",
       "      <td>900</td>\n",
       "    </tr>\n",
       "    <tr>\n",
       "      <th>4</th>\n",
       "      <td>750</td>\n",
       "      <td>500</td>\n",
       "      <td>400</td>\n",
       "    </tr>\n",
       "    <tr>\n",
       "      <th>5</th>\n",
       "      <td>800</td>\n",
       "      <td>700</td>\n",
       "      <td>350</td>\n",
       "    </tr>\n",
       "  </tbody>\n",
       "</table>\n",
       "</div>"
      ],
      "text/plain": [
       "   Normal Density  Osteopenia  Osteoporosis\n",
       "0            1200        1000           890\n",
       "1            1000        1100           650\n",
       "2             980         700          1100\n",
       "3             900         800           900\n",
       "4             750         500           400\n",
       "5             800         700           350"
      ]
     },
     "execution_count": 41,
     "metadata": {},
     "output_type": "execute_result"
    }
   ],
   "source": [
    "df = pd.DataFrame({'Normal Density': [1200,1000,980,900,750,800], 'Osteopenia': [1000,1100,700,800,500,700], \n",
    "                   'Osteoporosis':[890,650,1100,900,400,350]})\n",
    "df"
   ]
  },
  {
   "cell_type": "markdown",
   "id": "3e7f41a9",
   "metadata": {},
   "source": [
    "### Calculations"
   ]
  },
  {
   "cell_type": "code",
   "execution_count": 42,
   "id": "7ba81afe",
   "metadata": {},
   "outputs": [
    {
     "data": {
      "text/html": [
       "<div>\n",
       "<style scoped>\n",
       "    .dataframe tbody tr th:only-of-type {\n",
       "        vertical-align: middle;\n",
       "    }\n",
       "\n",
       "    .dataframe tbody tr th {\n",
       "        vertical-align: top;\n",
       "    }\n",
       "\n",
       "    .dataframe thead th {\n",
       "        text-align: right;\n",
       "    }\n",
       "</style>\n",
       "<table border=\"1\" class=\"dataframe\">\n",
       "  <thead>\n",
       "    <tr style=\"text-align: right;\">\n",
       "      <th></th>\n",
       "      <th>Sum of Squares</th>\n",
       "      <th>Degrees of freedom</th>\n",
       "      <th>Mean Squares</th>\n",
       "      <th>F value</th>\n",
       "    </tr>\n",
       "  </thead>\n",
       "  <tbody>\n",
       "    <tr>\n",
       "      <th>Between Groups</th>\n",
       "      <td>152477.777778</td>\n",
       "      <td>2.0</td>\n",
       "      <td>76238.888889</td>\n",
       "      <td>1.394897</td>\n",
       "    </tr>\n",
       "    <tr>\n",
       "      <th>Error(Within Groups)</th>\n",
       "      <td>819833.333333</td>\n",
       "      <td>15.0</td>\n",
       "      <td>54655.555556</td>\n",
       "      <td></td>\n",
       "    </tr>\n",
       "    <tr>\n",
       "      <th>Total</th>\n",
       "      <td>972311.111111</td>\n",
       "      <td>17.0</td>\n",
       "      <td></td>\n",
       "      <td></td>\n",
       "    </tr>\n",
       "  </tbody>\n",
       "</table>\n",
       "</div>"
      ],
      "text/plain": [
       "                      Sum of Squares  Degrees of freedom  Mean Squares  \\\n",
       "Between Groups         152477.777778                 2.0  76238.888889   \n",
       "Error(Within Groups)   819833.333333                15.0  54655.555556   \n",
       "Total                  972311.111111                17.0                 \n",
       "\n",
       "                       F value  \n",
       "Between Groups        1.394897  \n",
       "Error(Within Groups)            \n",
       "Total                           "
      ]
     },
     "metadata": {},
     "output_type": "display_data"
    }
   ],
   "source": [
    "F, anova = one_way_anova(df)\n",
    "display(anova)"
   ]
  },
  {
   "cell_type": "markdown",
   "id": "80b613ea",
   "metadata": {},
   "source": [
    "**F table of critical values of a=0.05** - https://statisticsbyjim.com/wp-content/uploads/2022/02/F-table_Alpha05.png   \n",
    "F_critical(a, dfb, dfe) = F_critical(0.05, 2, 15) = 3.68"
   ]
  },
  {
   "cell_type": "code",
   "execution_count": 43,
   "id": "284f7f23",
   "metadata": {},
   "outputs": [],
   "source": [
    "F_critical = 3.68"
   ]
  },
  {
   "cell_type": "markdown",
   "id": "d9b4d2f5",
   "metadata": {},
   "source": [
    "### Conclusion"
   ]
  },
  {
   "cell_type": "code",
   "execution_count": 44,
   "id": "3bef9f91",
   "metadata": {},
   "outputs": [
    {
     "name": "stdout",
     "output_type": "stream",
     "text": [
      "The null hypothesis can't be rejected\n"
     ]
    }
   ],
   "source": [
    "if F>F_critical:\n",
    "    print('The null hypothesis is rejected')\n",
    "else:\n",
    "    print(\"The null hypothesis can't be rejected\")"
   ]
  },
  {
   "cell_type": "markdown",
   "id": "d1732ca6",
   "metadata": {},
   "source": [
    "**So there is not enough evidence to prove that the mean daily calcium intake of the three groups is different**"
   ]
  },
  {
   "cell_type": "markdown",
   "id": "e0cc4dd5",
   "metadata": {},
   "source": [
    "# Two way ANOVA\n",
    "\n",
    "<img src='https://i.postimg.cc/59m3cQTV/two-way-anova.jpg' width=800 height=400>\n",
    "\n",
    "In order to use a two-way ANOVA, the dataset should have **two independent variables**. Thus, it can be thought of as an **extension of a one way ANOVA** where only one variable affects the dependent variable. These variables are called **factors**, each with more than one level. For example, if one of the factors is **color**, the levels within the factor may be **light**, **neutral**, and **dark**. If the dataset fits these requirements and a person wants to know how the two factors affect the response variable, two-way ANOVA is likely a good method to use. A two way ANOVA test is used to check the main **effect of each independent variable** and to see if there is an **interaction effect** between them. To examine the main effect, each factor is considered separately as done in a **one way ANOVA**. Furthermore, to check the **interaction effect**, all factors are considered at the same time. \n",
    "\n",
    "There are **4** assumptions that must be met **before** using two-way ANOVA:  \n",
    "- **Normality**: Observations from the sample population are normally distributed.\n",
    "- **Sample Size**: The number of observations must be the same for each group.\n",
    "- **Equal Variances**: The variances for each group are equal.\n",
    "- **Independence**: Observations in each group are independent.\n",
    "\n",
    "When performing a two-way ANOVA, there are **3 hypotheses** to test. The first two determine whether **each factor** has an effect on **the response variable**, and the third one decides if there is any **interaction** between the two factors.\n",
    "\n",
    "- **Null Hypothesis #1**: The population means of the first factor are the same.\n",
    "- **Null Hypothesis #2**: The population means of the second factor are the same.\n",
    "- **Null Hypothesis #3**: There are no interaction effects between the factors."
   ]
  },
  {
   "cell_type": "markdown",
   "id": "9ae894c5",
   "metadata": {},
   "source": [
    "## Function"
   ]
  },
  {
   "cell_type": "code",
   "execution_count": 45,
   "id": "3379aabf",
   "metadata": {},
   "outputs": [],
   "source": [
    "import numpy as np\n",
    "import pandas as pd\n",
    "\n",
    "def two_way_anova(df):  \n",
    "    n, n_factorB_groups = df.shape\n",
    "    N = n*n_factorB_groups\n",
    "    n_factorA_groups = len(df.index.unique())\n",
    "    n_group_observations = n/n_factorA_groups\n",
    "\n",
    "    total_mean = df.mean().mean()\n",
    "\n",
    "    SSW = 0\n",
    "    factorA_means = []\n",
    "    for index in df.index.unique(): \n",
    "        factorA_means.append(df[df.index == index].mean().mean())\n",
    "        for column in df.columns: \n",
    "            group = df[df.index == index][column]\n",
    "            SSW += ((group-group.mean())**2).sum()\n",
    "\n",
    "    factorB_means = []\n",
    "    for column in df.columns: \n",
    "        factorB_means.append(df[column].mean())\n",
    "\n",
    "    SSA = (((factorA_means-total_mean)**2)@np.array([n_group_observations*n_factorB_groups]*n_factorA_groups)).round(2)\n",
    "    SSB = (((factorB_means-total_mean)**2)@np.array([n_group_observations*n_factorA_groups]*n_factorB_groups)).round(2)\n",
    "    SST = (((df-total_mean)**2).sum().sum()).round(2)\n",
    "    SSAB = (SST - (SSA+SSB+SSW)).round(2)\n",
    "\n",
    "    dfA, dfB = n_factorA_groups-1, n_factorB_groups-1\n",
    "    dfAB = dfA * dfB\n",
    "    dfW = N - n_factorA_groups * n_factorB_groups\n",
    "    dfTotal = N-1\n",
    "\n",
    "    MSA, MSB, MSAB, MSW = SSA/dfA, SSB/dfB, SSAB/dfAB, SSW/dfW\n",
    "    FA, FB, FAB = MSA/MSW, MSB/MSW, MSAB/MSW\n",
    "    Fs = [FA, FB, FAB]\n",
    "\n",
    "    anova = pd.DataFrame(columns=['Sum of Squares', 'Degrees of freedom', 'Mean Squares', 'F value'])\n",
    "    anova.loc['Factor A'] = [SSA, dfA, MSA, FA]\n",
    "    anova.loc['Factor B'] = [SSB, dfB, MSB, FB]\n",
    "    anova.loc['Interaction effect'] = [SSAB, dfAB, MSAB, FAB]\n",
    "    anova.loc['Within(Error))'] = [SSW, dfW, MSW, '']\n",
    "    anova.loc['Total'] = [SST, dfTotal, '', '']\n",
    "    \n",
    "    return Fs, anova"
   ]
  },
  {
   "cell_type": "markdown",
   "id": "89e350ef",
   "metadata": {},
   "source": [
    "## Example 1\n",
    "\n",
    "A farmer wants to see if there is a difference in the **average height** for two new **strains of hemp plants**. They believe there also may be some **interaction with different soil types** so they plant 5 hemp plants of each strain in 4 types of soil: **sandy**, **clay**, **loam** and **silt**. At **α = 0.01**, analyze the data shown, using a two-way ANOVA."
   ]
  },
  {
   "cell_type": "markdown",
   "id": "b855b282",
   "metadata": {},
   "source": [
    "### Data"
   ]
  },
  {
   "cell_type": "code",
   "execution_count": 46,
   "id": "7a726719",
   "metadata": {},
   "outputs": [
    {
     "data": {
      "text/html": [
       "<div>\n",
       "<style scoped>\n",
       "    .dataframe tbody tr th:only-of-type {\n",
       "        vertical-align: middle;\n",
       "    }\n",
       "\n",
       "    .dataframe tbody tr th {\n",
       "        vertical-align: top;\n",
       "    }\n",
       "\n",
       "    .dataframe thead th {\n",
       "        text-align: right;\n",
       "    }\n",
       "</style>\n",
       "<table border=\"1\" class=\"dataframe\">\n",
       "  <thead>\n",
       "    <tr style=\"text-align: right;\">\n",
       "      <th></th>\n",
       "      <th>Sandy</th>\n",
       "      <th>Clay</th>\n",
       "      <th>Loam</th>\n",
       "      <th>Silt</th>\n",
       "    </tr>\n",
       "  </thead>\n",
       "  <tbody>\n",
       "    <tr>\n",
       "      <th>Strain A</th>\n",
       "      <td>60</td>\n",
       "      <td>54</td>\n",
       "      <td>80</td>\n",
       "      <td>62</td>\n",
       "    </tr>\n",
       "    <tr>\n",
       "      <th>Strain A</th>\n",
       "      <td>53</td>\n",
       "      <td>63</td>\n",
       "      <td>82</td>\n",
       "      <td>76</td>\n",
       "    </tr>\n",
       "    <tr>\n",
       "      <th>Strain A</th>\n",
       "      <td>58</td>\n",
       "      <td>62</td>\n",
       "      <td>62</td>\n",
       "      <td>55</td>\n",
       "    </tr>\n",
       "    <tr>\n",
       "      <th>Strain A</th>\n",
       "      <td>62</td>\n",
       "      <td>71</td>\n",
       "      <td>88</td>\n",
       "      <td>48</td>\n",
       "    </tr>\n",
       "    <tr>\n",
       "      <th>Strain A</th>\n",
       "      <td>57</td>\n",
       "      <td>76</td>\n",
       "      <td>71</td>\n",
       "      <td>61</td>\n",
       "    </tr>\n",
       "    <tr>\n",
       "      <th>Strain B</th>\n",
       "      <td>36</td>\n",
       "      <td>62</td>\n",
       "      <td>68</td>\n",
       "      <td>63</td>\n",
       "    </tr>\n",
       "    <tr>\n",
       "      <th>Strain B</th>\n",
       "      <td>41</td>\n",
       "      <td>61</td>\n",
       "      <td>72</td>\n",
       "      <td>65</td>\n",
       "    </tr>\n",
       "    <tr>\n",
       "      <th>Strain B</th>\n",
       "      <td>54</td>\n",
       "      <td>77</td>\n",
       "      <td>71</td>\n",
       "      <td>72</td>\n",
       "    </tr>\n",
       "    <tr>\n",
       "      <th>Strain B</th>\n",
       "      <td>65</td>\n",
       "      <td>53</td>\n",
       "      <td>82</td>\n",
       "      <td>71</td>\n",
       "    </tr>\n",
       "    <tr>\n",
       "      <th>Strain B</th>\n",
       "      <td>53</td>\n",
       "      <td>64</td>\n",
       "      <td>86</td>\n",
       "      <td>63</td>\n",
       "    </tr>\n",
       "  </tbody>\n",
       "</table>\n",
       "</div>"
      ],
      "text/plain": [
       "          Sandy  Clay  Loam  Silt\n",
       "Strain A     60    54    80    62\n",
       "Strain A     53    63    82    76\n",
       "Strain A     58    62    62    55\n",
       "Strain A     62    71    88    48\n",
       "Strain A     57    76    71    61\n",
       "Strain B     36    62    68    63\n",
       "Strain B     41    61    72    65\n",
       "Strain B     54    77    71    72\n",
       "Strain B     65    53    82    71\n",
       "Strain B     53    64    86    63"
      ]
     },
     "execution_count": 46,
     "metadata": {},
     "output_type": "execute_result"
    }
   ],
   "source": [
    "df = pd.DataFrame({'Sandy':[60,53,58,62,57,36,41,54,65,53], 'Clay': [54,63,62,71,76,62,61,77,53,64],\n",
    "                   'Loam': [80,82,62,88,71,68,72,71,82,86], 'Silt': [62,76,55,48,61,63,65,72,71,63]}, \n",
    "                  index=['Strain A']*5+['Strain B']*5)\n",
    "df"
   ]
  },
  {
   "cell_type": "markdown",
   "id": "64843242",
   "metadata": {},
   "source": [
    "### Calculations"
   ]
  },
  {
   "cell_type": "code",
   "execution_count": 47,
   "id": "33f8df7f",
   "metadata": {},
   "outputs": [
    {
     "data": {
      "text/html": [
       "<div>\n",
       "<style scoped>\n",
       "    .dataframe tbody tr th:only-of-type {\n",
       "        vertical-align: middle;\n",
       "    }\n",
       "\n",
       "    .dataframe tbody tr th {\n",
       "        vertical-align: top;\n",
       "    }\n",
       "\n",
       "    .dataframe thead th {\n",
       "        text-align: right;\n",
       "    }\n",
       "</style>\n",
       "<table border=\"1\" class=\"dataframe\">\n",
       "  <thead>\n",
       "    <tr style=\"text-align: right;\">\n",
       "      <th></th>\n",
       "      <th>Sum of Squares</th>\n",
       "      <th>Degrees of freedom</th>\n",
       "      <th>Mean Squares</th>\n",
       "      <th>F value</th>\n",
       "    </tr>\n",
       "  </thead>\n",
       "  <tbody>\n",
       "    <tr>\n",
       "      <th>Factor A</th>\n",
       "      <td>12.1</td>\n",
       "      <td>1.0</td>\n",
       "      <td>12.1</td>\n",
       "      <td>0.166409</td>\n",
       "    </tr>\n",
       "    <tr>\n",
       "      <th>Factor B</th>\n",
       "      <td>2501.0</td>\n",
       "      <td>3.0</td>\n",
       "      <td>833.666667</td>\n",
       "      <td>11.465246</td>\n",
       "    </tr>\n",
       "    <tr>\n",
       "      <th>Interaction effect</th>\n",
       "      <td>268.1</td>\n",
       "      <td>3.0</td>\n",
       "      <td>89.366667</td>\n",
       "      <td>1.229041</td>\n",
       "    </tr>\n",
       "    <tr>\n",
       "      <th>Within(Error))</th>\n",
       "      <td>2326.8</td>\n",
       "      <td>32.0</td>\n",
       "      <td>72.7125</td>\n",
       "      <td></td>\n",
       "    </tr>\n",
       "    <tr>\n",
       "      <th>Total</th>\n",
       "      <td>5108.0</td>\n",
       "      <td>39.0</td>\n",
       "      <td></td>\n",
       "      <td></td>\n",
       "    </tr>\n",
       "  </tbody>\n",
       "</table>\n",
       "</div>"
      ],
      "text/plain": [
       "                    Sum of Squares  Degrees of freedom Mean Squares    F value\n",
       "Factor A                      12.1                 1.0         12.1   0.166409\n",
       "Factor B                    2501.0                 3.0   833.666667  11.465246\n",
       "Interaction effect           268.1                 3.0    89.366667   1.229041\n",
       "Within(Error))              2326.8                32.0      72.7125           \n",
       "Total                       5108.0                39.0                        "
      ]
     },
     "metadata": {},
     "output_type": "display_data"
    }
   ],
   "source": [
    "Fs, anova = two_way_anova(df)\n",
    "display(anova)"
   ]
  },
  {
   "cell_type": "markdown",
   "id": "b69db5c6",
   "metadata": {},
   "source": [
    "**F table of critical values of a=0.01** - https://statisticsbyjim.com/wp-content/uploads/2022/02/F-table_Alpha01.png  \n",
    "**F_criticals** = [**F_critical(**0.01, dfA(1), dfW(32)**)**, **F_critical(**0.01, dfB(3), dfW(32)**)**, **F_critical(**0.01, dfAB(3), dfW(32)**)**] =  [7.4993, 4.4594, 4.4594]"
   ]
  },
  {
   "cell_type": "code",
   "execution_count": 48,
   "id": "82dbd116",
   "metadata": {},
   "outputs": [],
   "source": [
    "F_criticals = [7.4993, 4.4594, 4.4594]"
   ]
  },
  {
   "cell_type": "markdown",
   "id": "00919b0d",
   "metadata": {},
   "source": [
    "### Conclusions"
   ]
  },
  {
   "cell_type": "code",
   "execution_count": 49,
   "id": "6e276c32",
   "metadata": {},
   "outputs": [
    {
     "name": "stdout",
     "output_type": "stream",
     "text": [
      "The Null Hypothesis #1 can't be rejected\n",
      "The Null Hypothesis #2 is rejected\n",
      "The Null Hypothesis #3 can't be rejected\n"
     ]
    }
   ],
   "source": [
    "for i in range(3):\n",
    "    if Fs[i]>F_criticals[i]:\n",
    "        print(f'The Null Hypothesis #{i+1} is rejected')\n",
    "    else:\n",
    "        print(f\"The Null Hypothesis #{i+1} can't be rejected\")"
   ]
  },
  {
   "cell_type": "markdown",
   "id": "780dc750",
   "metadata": {},
   "source": [
    "**So**\n",
    "- There is **no significant difference** in the mean plant height between the **two hemp strains**.\n",
    "- The **type of soil** has a **significant effect** on the mean plant height.\n",
    "- There is **no significant interaction** effect **between** the hemp strain and the soil type on the mean plant height."
   ]
  },
  {
   "cell_type": "markdown",
   "id": "ded09b3a",
   "metadata": {},
   "source": [
    "## Example 2"
   ]
  },
  {
   "cell_type": "code",
   "execution_count": null,
   "id": "9d6af39d",
   "metadata": {},
   "outputs": [],
   "source": []
  }
 ],
 "metadata": {
  "kernelspec": {
   "display_name": "Python 3 (ipykernel)",
   "language": "python",
   "name": "python3"
  },
  "language_info": {
   "codemirror_mode": {
    "name": "ipython",
    "version": 3
   },
   "file_extension": ".py",
   "mimetype": "text/x-python",
   "name": "python",
   "nbconvert_exporter": "python",
   "pygments_lexer": "ipython3",
   "version": "3.9.13"
  }
 },
 "nbformat": 4,
 "nbformat_minor": 5
}
