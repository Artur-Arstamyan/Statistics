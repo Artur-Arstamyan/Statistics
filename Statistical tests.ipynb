{
 "cells": [
  {
   "cell_type": "markdown",
   "id": "bfcd14f8",
   "metadata": {},
   "source": [
    "# Intro\n",
    "\n",
    "**The selection of the most appropriate test is based on:**\n",
    "- the number of variables of interest: **one**, **two** or **more than two** variables\n",
    "- the variable type: **quantitative** or **qualitative**\n",
    "- in case of a qualitative variable, the **number of groups** and whether they are **independent or paired** (i.e., dependent)\n",
    "- whether you want the **parametric** or **nonparametric** version\n",
    "\n",
    "**Non-parametric tests** don't make assumptions about the underlying distribution of the data focusing more on **ranks or medians** rather than means."
   ]
  },
  {
   "cell_type": "markdown",
   "id": "de9f90a7",
   "metadata": {},
   "source": [
    "<img src='https://i.postimg.cc/VsB6HjWx/overview-statistical-tests.jpg'>"
   ]
  },
  {
   "cell_type": "markdown",
   "id": "a64747c9",
   "metadata": {},
   "source": [
    "The pic above is from https://statsandr.com/blog/what-statistical-test-should-i-do/  \n",
    "**In this notebook we go through all these tests from left to right.**  \n",
    "**But before that we go through tests for normality and tests for equal variances**\n",
    "\n",
    "Another useful link [Which plot is appropriate based on the type of data](https://www.data-to-viz.com/#explore)"
   ]
  },
  {
   "cell_type": "markdown",
   "id": "dc1198bf",
   "metadata": {},
   "source": [
    "# Initial Imports"
   ]
  },
  {
   "cell_type": "code",
   "execution_count": 32,
   "id": "5f67d563",
   "metadata": {
    "execution": {
     "iopub.execute_input": "2024-10-24T12:55:56.857082Z",
     "iopub.status.busy": "2024-10-24T12:55:56.856574Z",
     "iopub.status.idle": "2024-10-24T12:55:56.864869Z",
     "shell.execute_reply": "2024-10-24T12:55:56.863518Z",
     "shell.execute_reply.started": "2024-10-24T12:55:56.857020Z"
    }
   },
   "outputs": [],
   "source": [
    "import numpy as np\n",
    "import pandas as pd\n",
    "from scipy import stats\n",
    "import statsmodels.api as sm\n",
    "\n",
    "# P value is the maximum significance level(a) at which we can't reject the null hypothesis.\n",
    "# So we can only reject the null when a > p.\n",
    "# a = 1-c(confidence level) \n",
    "# So we can only reject the null when c < 1-p.\n",
    "def conclude(p, a):\n",
    "    if p < a:\n",
    "        print(f'The null hypothesis is rejected with {a} significance level')\n",
    "    else:\n",
    "        print(f\"The null hypothesis can't be rejected with {a} significance level\")"
   ]
  },
  {
   "cell_type": "markdown",
   "id": "7828994f",
   "metadata": {},
   "source": [
    "# Normality tests\n",
    "\n",
    "Parametric tests assume that the distribution of the **sample means** is approximately normal.  There are 3 key scenarios:\n",
    "1. **If the Population is normally distributed:**\n",
    "    - When the population itself is normally distributed, the **sample means** will also be normally distributed, **regardless of the sample size**. \n",
    "2. **If the Population distribution is not normal or unknown but the Sample size is large (typically n>30):**\n",
    "    - The CLT states that as the sample size increases, the distribution of the **sample means** approaches a normal distribution(**with mean = population mean, std = population std/sqrt(n)**), regardless of the population's distribution.\n",
    "    - A common rule of thumb is that a sample size greater than 30 is large enough for the CLT to apply, making the distribution of the sample means approximately normal, even if the population is not normal.\n",
    "3. **If the Population distribution is not normal or unknown and the Sample size is small (typically n<=30):**\n",
    "    - In this case, run a **normality test** on the sample. If the sample data is normally distributed, you can still assume **the distribution of the sample means to be normal**, otherwise use a **non-parametric test**.\n",
    "\n",
    "So we need **normality tests** in the 3-rd scenio, when the Population distribution is **not normal or unknown** and the Sample size is **small (typically n<=30).**\n",
    "\n",
    "**Common Normality Tests:**\n",
    "1. **Shapiro-Wilk Test** - scipy.stats.shapiro():  \n",
    "One of the most commonly used tests for checking normality.\n",
    "2. **Kolmogorov-Smirnov Test (K-S Test)** - scipy.stats.kstest(cdf='norm'):  \n",
    "Compares the distribution of the sample data to a reference (normal) distribution. It’s sensitive to both the location and shape of the distribution, making it less reliable for small samples.\n",
    "3. **Anderson-Darling Test** - scipy.stats.anderson(dist='norm'):  \n",
    "Modification of the K-S test that gives **more weight to the tails** of the distribution. It is generally **more powerful than the K-S test**. Suitable for financial data where tail behavior is important.\n",
    "4. **D’Agostino’s K-squared Test** - scipy.stats.normaltest():  \n",
    "Checks for normality by **testing for skewness and kurtosis** in the distribution. It is useful when you want to check both the symmetry (skewness) and the tailedness (kurtosis) of the data.\n",
    "\n",
    "\n",
    "**Assumptions:**\n",
    "1. **Shapiro-Wilk Test**: The sample size is not too large (though it is still used for large samples).\n",
    "2. **Kolmogorov-Smirnov Test (K-S Test)**: The sample should not be too small or large; it works best with moderate sample sizes.\n",
    "3. **Anderson-Darling Test** - Suitable for moderate and large sample sizes. \n",
    "4. **D’Agostino’s K-squared Test** - The sample size should not be too small (recommended n>20).\n",
    "\n",
    "**Hypothesis:**\n",
    "- **Null Hypothesis (H₀):** The data follows a normal distribution.\n",
    "- **Alternative Hypothesis (H₁):** The data does not follow a normal distribution.\n",
    "\n",
    "**Conclusion:**\n",
    "- Use **Shapiro-Wilk** for small sample sizes.\n",
    "- Use **D’Agostino’s K-squared** or **Anderson-Darling** for larger sample sizes.\n",
    "- Use **Kolmogorov-Smirnov** if you're comparing to a specific distribution (like normal)."
   ]
  },
  {
   "cell_type": "code",
   "execution_count": 33,
   "id": "f844465a",
   "metadata": {
    "execution": {
     "iopub.execute_input": "2024-10-24T12:55:58.960918Z",
     "iopub.status.busy": "2024-10-24T12:55:58.959893Z",
     "iopub.status.idle": "2024-10-24T12:55:59.276617Z",
     "shell.execute_reply": "2024-10-24T12:55:59.275248Z",
     "shell.execute_reply.started": "2024-10-24T12:55:58.960870Z"
    }
   },
   "outputs": [
    {
     "name": "stderr",
     "output_type": "stream",
     "text": [
      "/opt/conda/lib/python3.10/site-packages/scipy/stats/_axis_nan_policy.py:418: UserWarning: `kurtosistest` p-value may be inaccurate with fewer than 20 observations; only n=10 observations were given.\n",
      "  return hypotest_fun_in(*args, **kwds)\n"
     ]
    },
    {
     "name": "stdout",
     "output_type": "stream",
     "text": [
      "P value:  0.878300286770219\n",
      "Fail to reject the null hypothesis: The data is normally distributed.\n",
      "\n",
      "P value:  0.9874739854241917\n",
      "Fail to reject the null hypothesis: The data is normally distributed.\n",
      "\n",
      "P value:  0.7390562287714483\n",
      "Fail to reject the null hypothesis: The data is normally distributed.\n",
      "\n",
      "Fail to reject the null hypothesis: The data is normally distributed.\n"
     ]
    },
    {
     "data": {
      "image/png": "[encoded data removed]",
      "text/plain": [
       "<Figure size 640x480 with 1 Axes>"
      ]
     },
     "metadata": {},
     "output_type": "display_data"
    }
   ],
   "source": [
    "import matplotlib.pyplot as plt\n",
    "\n",
    "# Data\n",
    "data = [12, 14, 18, 19, 22, 24, 25, 30, 32, 35] # np.random.normal(10, 12, 100)\n",
    "plt.hist(data)\n",
    "\n",
    "# Shapiro-Wilk\n",
    "stat, p1 = stats.shapiro(data)    \n",
    "# K-S(if args not provided by default compares the data against the standard normal distribution(mean=0, std=1))\n",
    "stat, p2 = stats.kstest(data, cdf='norm', args=(np.mean(data), np.std(data))) \n",
    "# D’Agostino’s K-squared\n",
    "stat, p3 = stats.normaltest(data)  \n",
    "# Anderson-Darling\n",
    "result = stats.anderson(data, dist='norm')  \n",
    "cv = result.critical_values[np.where(result.significance_level == 5)[0][0]]\n",
    "\n",
    "# Conclusions\n",
    "for p in [p1, p2, p3]:\n",
    "    print('P value: ', p)\n",
    "    if p > 0.05:\n",
    "        print(\"Fail to reject the null hypothesis: The data is normally distributed.\\n\")\n",
    "    else:\n",
    "        print(\"Reject the null hypothesis: The data is not normally distributed.\\n\")\n",
    "        \n",
    "if result.statistic < cv:\n",
    "    print(\"Fail to reject the null hypothesis: The data is normally distributed.\")\n",
    "else:\n",
    "    print(\"Reject the null hypothesis: The data is not normally distributed.\")"
   ]
  },
  {
   "cell_type": "markdown",
   "id": "a4f6a0f4",
   "metadata": {},
   "source": [
    "# Tests for Homogeneity(equality) of Variances\n",
    "\n",
    "**Common Tests for Homogeneity of Variances:**\n",
    "1. **Levene's Test** - scipy.stats.levene()\n",
    "2. **Bartlett's Test**  - scipy.stats.bartlett()\n",
    "3. **Brown-Forsythe Test** - scipy.stats.levene(center='median') - **uses the median instead of the mean**\n",
    "4. **Fligner-Killeen Test** - scipy.stats.fligner() - **the most robust to non-normality**\n",
    "\n",
    "**Assumptions for Homogeneity of Variance Tests:**\n",
    "- Independence of observations within and across groups.\n",
    "- For **Bartlett’s test**, the data **must be normally distributed**.\n",
    "- For Levene's, Brown-Forsythe, and Fligner-Killeen, the data does **not have to be normally distributed**.\n",
    "\n",
    "**Hypothesis:**\n",
    "- **Null Hypothesis (H₀):** Variances are equal across groups.\n",
    "- **Alternative Hypothesis (H₁):** Variances are not equal across groups.\n",
    "\n",
    "**General Conclusion:**\n",
    "- Use **Levene’s test** or **Brown-Forsythe test** when you’re unsure about normality.\n",
    "- Use **Bartlett’s test** if you know the data is normally distributed.\n",
    "- Use the **Fligner-Killeen test** if your data is significantly non-normal or if you are using non-parametric methods."
   ]
  },
  {
   "cell_type": "code",
   "execution_count": 34,
   "id": "6d08dbc9",
   "metadata": {
    "execution": {
     "iopub.execute_input": "2024-10-24T12:56:02.851545Z",
     "iopub.status.busy": "2024-10-24T12:56:02.851115Z",
     "iopub.status.idle": "2024-10-24T12:56:02.870645Z",
     "shell.execute_reply": "2024-10-24T12:56:02.869125Z",
     "shell.execute_reply.started": "2024-10-24T12:56:02.851506Z"
    }
   },
   "outputs": [
    {
     "name": "stdout",
     "output_type": "stream",
     "text": [
      "P value:  0.9744150206470972\n",
      "Fail to reject the null hypothesis: Variances are equal.\n",
      "\n",
      "P value:  0.955991660476931\n",
      "Fail to reject the null hypothesis: Variances are equal.\n",
      "\n",
      "P value:  0.9744150206470972\n",
      "Fail to reject the null hypothesis: Variances are equal.\n",
      "\n",
      "P value:  0.9707228836527247\n",
      "Fail to reject the null hypothesis: Variances are equal.\n",
      "\n"
     ]
    }
   ],
   "source": [
    "# Data\n",
    "group1 = [10, 12, 14, 15, 17]\n",
    "group2 = [10, 11, 13, 14, 16]\n",
    "group3 = [8, 9, 10, 12, 15]\n",
    "\n",
    "# Calculations\n",
    "stat, p1 = stats.levene(group1, group2, group3)                  # Levene's test\n",
    "stat, p2 = stats.bartlett(group1, group2, group3)                # Bartlett's test\n",
    "stat, p3 = stats.levene(group1, group2, group3, center='median') # Brown-Forsythe test\n",
    "stat, p4 = stats.fligner(group1, group2, group3)                 # Fligner-Killeen test\n",
    "\n",
    "# Conclusions\n",
    "for p in [p1, p2, p3, p4]:\n",
    "    print('P value: ', p)\n",
    "    if p > 0.05:\n",
    "        print(\"Fail to reject the null hypothesis: Variances are equal.\\n\")\n",
    "    else:\n",
    "        print(\"Reject the null hypothesis: Variances are not equal.\\n\")"
   ]
  },
  {
   "cell_type": "markdown",
   "id": "a1361a43",
   "metadata": {},
   "source": [
    "# One-proportion test\n",
    "\n",
    "One-proportion test is used to compare an **observed proportion** to an **expected proportion**, when the qualitative variable has **only two categories**."
   ]
  },
  {
   "cell_type": "markdown",
   "id": "be91016e",
   "metadata": {},
   "source": [
    "## Example 1\n",
    "\n",
    "A company claims that **70%** of their customers are satisfied with their service. To verify this claim, a survey of **200 customers** shows that **140 are satisfied**. Is there enough evidence at the **5% significance level** to reject the company's claim?\n",
    "\n",
    "**Hypotheses:**\n",
    "- **Null Hypothesis (H0)**: The true proportion of satisfied customers is 0.70.\n",
    "- **Alternative Hypothesis (H1)**: The true proportion of satisfied customers is not 0.70 (two-sided test)."
   ]
  },
  {
   "cell_type": "code",
   "execution_count": 35,
   "id": "1eb23697",
   "metadata": {
    "execution": {
     "iopub.execute_input": "2024-10-24T12:56:03.240557Z",
     "iopub.status.busy": "2024-10-24T12:56:03.240114Z",
     "iopub.status.idle": "2024-10-24T12:56:03.249984Z",
     "shell.execute_reply": "2024-10-24T12:56:03.248481Z",
     "shell.execute_reply.started": "2024-10-24T12:56:03.240515Z"
    }
   },
   "outputs": [
    {
     "name": "stdout",
     "output_type": "stream",
     "text": [
      "Z-statistic: 0.0\n",
      "P-value: 1.0\n",
      "The null hypothesis can't be rejected with 0.05 significance level\n"
     ]
    }
   ],
   "source": [
    "# Data\n",
    "successes = 140  # Number of satisfied customers\n",
    "n = 200         # Total number of customers surveyed\n",
    "p_null = 0.70   # Hypothesized proportion\n",
    "a = 0.05        # Significance level\n",
    "\n",
    "# Calculations\n",
    "z, p = sm.stats.proportions_ztest(count=successes, nobs=n, value=p_null, alternative='two-sided')\n",
    "print(f\"Z-statistic: {z}\")\n",
    "print(f\"P-value: {p}\")\n",
    "\n",
    "# Conclusions\n",
    "conclude(p, a)"
   ]
  },
  {
   "cell_type": "markdown",
   "id": "51d4858a",
   "metadata": {},
   "source": [
    "## Example 2 \n",
    "From [zedstatistics](https://youtu.be/bh_5Yr3YjO0?si=JYrBiVI8suk-7mEK)\n",
    "\n",
    "Gigi's Pizza regularly surveys its customers. On the basis of these surveys, the management of the chain claims that **at least 75%** of its customers rate the food as excellent. A consumer testing service wants to examine the claim by asking **460 customers** to rate the food. **71%** rated the food as excellent. Is there enough evidence at the (a) **5%** and (b) **1%** level of significance to reject management's claim?\n",
    "\n",
    "**Hypotheses**\n",
    "- **Null Hypothesis (H0)**: The true proportion is equal to **0.75**.\n",
    "- **Alternative Hypothesis (H1)**: The true proportion is **less than 0.75**(one-tailed test)."
   ]
  },
  {
   "cell_type": "code",
   "execution_count": 36,
   "id": "f73672ed",
   "metadata": {
    "execution": {
     "iopub.execute_input": "2024-10-24T12:56:03.659561Z",
     "iopub.status.busy": "2024-10-24T12:56:03.659030Z",
     "iopub.status.idle": "2024-10-24T12:56:03.668762Z",
     "shell.execute_reply": "2024-10-24T12:56:03.667390Z",
     "shell.execute_reply.started": "2024-10-24T12:56:03.659511Z"
    }
   },
   "outputs": [
    {
     "name": "stdout",
     "output_type": "stream",
     "text": [
      "Z-statistic: -1.890648236132947\n",
      "P-value: 0.0293356583298111\n",
      "The null hypothesis is rejected with 0.05 significance level\n",
      "The null hypothesis can't be rejected with 0.01 significance level\n"
     ]
    }
   ],
   "source": [
    "# Data\n",
    "successes = 460*0.71  # Number of satisfied customers\n",
    "n = 460         # Total number of customers surveyed\n",
    "p_null = 0.75   # Hypothesized proportion\n",
    "a_s = [0.05, 0.01]     # Significance level\n",
    "\n",
    "# Calculations\n",
    "z, p = sm.stats.proportions_ztest(count=successes, nobs=n, value=p_null, alternative='smaller')\n",
    "print(f\"Z-statistic: {z}\")\n",
    "print(f\"P-value: {p}\")\n",
    "\n",
    "# Conclusions\n",
    "for a in a_s:\n",
    "    conclude(p, a)"
   ]
  },
  {
   "cell_type": "markdown",
   "id": "199ac091",
   "metadata": {},
   "source": [
    "# Chi-square goodness of fit test\n",
    "\n",
    "The Chi-Square Goodness of Fit test is used when you want to compare **observed categorical data** with **expected data** under a specific hypothesis. It helps determine if a sample comes from a population with a specific distribution."
   ]
  },
  {
   "cell_type": "markdown",
   "id": "9a9e3846",
   "metadata": {},
   "source": [
    "## Example 1\n",
    "A die is rolled **60 times**, and the following outcomes are observed: **10 ones**, **8 twos**, **12 threes**, **15 fours**, **7 fives**, and **8 sixes**. Is the die fair at a **5% significance level**?\n",
    "\n",
    "**Hypotheses:**\n",
    "- **Null Hypothesis (H0)**: The die **is fair**, i.e., each outcome has an equal probability of **1/6**.\n",
    "- **Alternative Hypothesis (H1)**:The die **is not fair**, i.e., the outcomes do not occur with equal probability."
   ]
  },
  {
   "cell_type": "code",
   "execution_count": 37,
   "id": "20fab854",
   "metadata": {
    "execution": {
     "iopub.execute_input": "2024-10-24T12:56:04.085740Z",
     "iopub.status.busy": "2024-10-24T12:56:04.085241Z",
     "iopub.status.idle": "2024-10-24T12:56:04.095016Z",
     "shell.execute_reply": "2024-10-24T12:56:04.093530Z",
     "shell.execute_reply.started": "2024-10-24T12:56:04.085693Z"
    }
   },
   "outputs": [
    {
     "name": "stdout",
     "output_type": "stream",
     "text": [
      "Chi-square statistic: 4.6000000000000005\n",
      "P-value: 0.4666162741153308\n",
      "The null hypothesis can't be rejected with 0.05 significance level\n"
     ]
    }
   ],
   "source": [
    "# Data\n",
    "observed = [10, 8, 12, 15, 7, 8] # Observed frequencies\n",
    "total = sum(observed)            # Total rolls\n",
    "expected = [total/len(observed)] * len(observed) # Expected frequencies if the die is fair\n",
    "a = 0.05                         # Significance Level\n",
    "\n",
    "# Calculations\n",
    "chi2_stat, p_value = stats.chisquare(f_obs=observed, f_exp=expected)\n",
    "print(f\"Chi-square statistic: {chi2_stat}\")\n",
    "print(f\"P-value: {p_value}\")\n",
    "\n",
    "# Conclusion\n",
    "conclude(p_value, a)"
   ]
  },
  {
   "cell_type": "markdown",
   "id": "0d330e11",
   "metadata": {},
   "source": [
    "## Example 2\n",
    "A survey was conducted to check the distribution of fruit preferences **among 100 people**. The observed frequencies were: **apples (30)**, **bananas (20)**, **oranges (25)**, and **grapes (25)**. The null hypothesis is that each fruit is equally preferred. Test at the **5% significance level**.\n",
    "\n",
    "**Hypotheses:**\n",
    "- **Null Hypothesis (H0)**: The proportions of preference for all fruits are equal.\n",
    "- **Alternative Hypothesis (H1)**: The proportions of preference for the fruits are not equal."
   ]
  },
  {
   "cell_type": "code",
   "execution_count": 38,
   "id": "bcd0eaf1",
   "metadata": {
    "execution": {
     "iopub.execute_input": "2024-10-24T12:56:04.405603Z",
     "iopub.status.busy": "2024-10-24T12:56:04.405157Z",
     "iopub.status.idle": "2024-10-24T12:56:04.414988Z",
     "shell.execute_reply": "2024-10-24T12:56:04.413679Z",
     "shell.execute_reply.started": "2024-10-24T12:56:04.405562Z"
    }
   },
   "outputs": [
    {
     "name": "stdout",
     "output_type": "stream",
     "text": [
      "Chi-square statistic: 2.0\n",
      "P-value: 0.5724067044708798\n",
      "The null hypothesis can't be rejected with 0.05 significance level\n"
     ]
    }
   ],
   "source": [
    "# Data\n",
    "observed = [30, 20, 25, 25]      # Observed frequencies\n",
    "total = sum(observed)         \n",
    "expected = [total/len(observed)] * len(observed) # Expected frequencies (assuming equal preference for all fruits)\n",
    "a = 0.05                         # Significance Level\n",
    "\n",
    "# Calculations\n",
    "chi2_stat, p_value = stats.chisquare(f_obs=observed, f_exp=expected)\n",
    "print(f\"Chi-square statistic: {chi2_stat}\")\n",
    "print(f\"P-value: {p_value}\")\n",
    "\n",
    "# Conclusion\n",
    "conclude(p_value, a)"
   ]
  },
  {
   "cell_type": "markdown",
   "id": "f4448a2e",
   "metadata": {},
   "source": [
    "# One-sample Student's t-test(population variance is known)\n",
    "\n",
    "- This is actually **not a Student's t-test** but a **z-test** when the **population variance is known**. \n",
    "- It's used to test if the sample mean differs from a known population mean when the population variance is provided.\n",
    "\n",
    "[Detailed explanation of what's going on behind One-sample t-test, z-test in just **2 PAGES**](https://github.com/Artur-Arstamyan/Statistics/blob/main/One-sample%20t-test%2C%20z-test.pdf)"
   ]
  },
  {
   "cell_type": "markdown",
   "id": "c72df813",
   "metadata": {},
   "source": [
    "## Example 1\n",
    "\n",
    "A machine is supposed to fill bottles with **500 ml of liquid**. The known population variance is **4 ml²**. A sample of **30 bottles** has an average fill of **498 ml**. Test at the **5% significance level** whether the machine is filling the bottles with the correct amount.\n",
    "\n",
    "**Hypotheses:**\n",
    "- **Null Hypothesis (H0)**: The mean amount of liquid filled by the machine is **500 ml**.\n",
    "- **Alternative Hypothesis (H1)**: The mean amount of liquid filled by the machine is not **500 ml(two-sided test)**."
   ]
  },
  {
   "cell_type": "code",
   "execution_count": 39,
   "id": "132d0fea",
   "metadata": {
    "execution": {
     "iopub.execute_input": "2024-10-24T12:56:05.163964Z",
     "iopub.status.busy": "2024-10-24T12:56:05.163487Z",
     "iopub.status.idle": "2024-10-24T12:56:05.173505Z",
     "shell.execute_reply": "2024-10-24T12:56:05.172040Z",
     "shell.execute_reply.started": "2024-10-24T12:56:05.163906Z"
    }
   },
   "outputs": [
    {
     "name": "stdout",
     "output_type": "stream",
     "text": [
      "Z-statistic: -5.477225575051661\n",
      "P-value: 4.3204630539861455e-08\n",
      "The null hypothesis is rejected with 0.05 significance level\n"
     ]
    }
   ],
   "source": [
    "# Data\n",
    "sample_mean = 498  # Sample mean\n",
    "pop_mean = 500     # Population mean\n",
    "pop_var = 4        # Population variance\n",
    "n = 30             # Sample size\n",
    "\n",
    "# Calculations\n",
    "standard_error = np.sqrt(pop_var/n) # std of the distribution of the sample means\n",
    "z_stat = (sample_mean - pop_mean)/standard_error # the z-statistic\n",
    "p_value = 2 * (1 - stats.norm.cdf(abs(z_stat))) # p-value for a two-tailed test\n",
    "print(f\"Z-statistic: {z_stat}\")\n",
    "print(f\"P-value: {p_value}\")\n",
    "\n",
    "# Conclusions\n",
    "conclude(p_value, a)"
   ]
  },
  {
   "cell_type": "markdown",
   "id": "8fddb018",
   "metadata": {},
   "source": [
    "# One-sample Student's t-test(population variance is unknown)\n",
    "\n",
    "[Detailed explanation of what's going on behind One-sample t-test, z-test in just **2 PAGES**](https://github.com/Artur-Arstamyan/Statistics/blob/main/One-sample%20t-test%2C%20z-test.pdf)"
   ]
  },
  {
   "cell_type": "markdown",
   "id": "3f61af69",
   "metadata": {},
   "source": [
    "## Example 1\n",
    "\n",
    "A factory claims that their batteries have a mean lifespan of **100 hours**. A sample of **10 batteries** has a mean lifespan of **98 hours** with a **standard deviation of 5 hours**. Test at the **5% significance level** whether the average battery lifespan is significantly different from 100 hours.\n",
    "\n",
    "**Hypotheses:**\n",
    "- **Null Hypothesis (H0)**: The **mean** battery lifespan is **100 hours**.\n",
    "- **Alternative Hypothesis (H1)**: The mean battery lifespan **is not** 100 hours(two-sided test)."
   ]
  },
  {
   "cell_type": "code",
   "execution_count": 40,
   "id": "d9b64c85",
   "metadata": {
    "execution": {
     "iopub.execute_input": "2024-10-24T12:56:05.472944Z",
     "iopub.status.busy": "2024-10-24T12:56:05.472026Z",
     "iopub.status.idle": "2024-10-24T12:56:05.486420Z",
     "shell.execute_reply": "2024-10-24T12:56:05.485019Z",
     "shell.execute_reply.started": "2024-10-24T12:56:05.472894Z"
    }
   },
   "outputs": [
    {
     "name": "stdout",
     "output_type": "stream",
     "text": [
      "T-statistic: -1.263565905769756\n",
      "P-value: 0.20638587735688851\n",
      "T-statistic: -1.1987238707898367\n",
      "P-value: 0.2612450691309508\n",
      "The null hypothesis can't be rejected with 0.05 significance level\n"
     ]
    }
   ],
   "source": [
    "# Data\n",
    "sample_data = np.array([95, 102, 104.91498676, 102, 97.80022694, 102.9845537, 87, 95.05836667, 95, 98.168116]) # Sample of 10 batteries\n",
    "sample_size = 10\n",
    "popmean = 100  # Claimed mean lifespan\n",
    "a = 0.05   # Significance level\n",
    "\n",
    "# Calculations\n",
    "# Doing ourselves\n",
    "sample_mean = sample_data.mean()\n",
    "sample_std = sample_data.std()\n",
    "se = sample_std/np.sqrt(sample_size) # std of the distribution of the sample means\n",
    "t_stat = (sample_mean-popmean)/se    # the t-statistic\n",
    "p_value = 2 * (1 - stats.norm.cdf(abs(t_stat))) # p-value for a two-tailed test\n",
    "print(f\"T-statistic: {t_stat}\")\n",
    "print(f\"P-value: {p_value}\")\n",
    "# Using scipy.stats\n",
    "t_stat, p_value = stats.ttest_1samp(sample_data, popmean=popmean)\n",
    "print(f\"T-statistic: {t_stat}\")\n",
    "print(f\"P-value: {p_value}\")\n",
    "\n",
    "# Conclusions\n",
    "conclude(p_value, a)"
   ]
  },
  {
   "cell_type": "markdown",
   "id": "8cf479a0",
   "metadata": {},
   "source": [
    "# One-sample Wilcoxon Signed-Rank test\n",
    "\n",
    "- The One-sample Wilcoxon signed-rank test is a **non-parametric alternative** to the One-sample t-test. \n",
    "- It’s used when the data **do not follow a normal distribution**, but you want to test whether **the median** of a sample differs from a hypothesized value."
   ]
  },
  {
   "cell_type": "markdown",
   "id": "82ec3780",
   "metadata": {},
   "source": [
    "## Example 1\n",
    "\n",
    "A doctor claims that a new drug reduces blood pressure. The differences in blood pressure (before - after) for **10 patients** are: 5, 3, 6, 2, 4, 1, 3, 4, 2, 3. Test at the **5% significance level** if the drug reduces blood pressure.\n",
    "\n",
    "**Hypotheses:**\n",
    "- **Null Hypothesis (H0)**: The **median** of the differences is zero (no effect).\n",
    "- **Alternative Hypothesis (H1)**: The **median** of the differences is greater than zero (drug reduces blood pressure).(one-sided)"
   ]
  },
  {
   "cell_type": "code",
   "execution_count": 41,
   "id": "498cdc79",
   "metadata": {
    "execution": {
     "iopub.execute_input": "2024-10-24T12:56:05.963714Z",
     "iopub.status.busy": "2024-10-24T12:56:05.963274Z",
     "iopub.status.idle": "2024-10-24T12:56:05.974492Z",
     "shell.execute_reply": "2024-10-24T12:56:05.973186Z",
     "shell.execute_reply.started": "2024-10-24T12:56:05.963675Z"
    }
   },
   "outputs": [
    {
     "name": "stdout",
     "output_type": "stream",
     "text": [
      "Wilcoxon statistic: 55.0\n",
      "P-value: 0.0009765625\n",
      "The null hypothesis is rejected with 0.05 significance level\n"
     ]
    }
   ],
   "source": [
    "# Data\n",
    "differences = [5, 3, 6, 2, 4, 1, 3, 4, 2, 3]  # Differences in blood pressure\n",
    "a = 0.05                                      # Significance level\n",
    "\n",
    "# Calculations\n",
    "w_stat, p_value = stats.wilcoxon(differences, alternative='greater') # Perform One-sample Wilcoxon signed-rank test\n",
    "print(f\"Wilcoxon statistic: {w_stat}\")\n",
    "print(f\"P-value: {p_value}\")\n",
    "\n",
    "# Conclusion\n",
    "conclude(p_value, a)"
   ]
  },
  {
   "cell_type": "markdown",
   "id": "3a6dc183",
   "metadata": {},
   "source": [
    "# McNemar’s test\n",
    "\n",
    "- McNemar’s test is used for **paired nominal data** (i.e., data with two categories, like yes/no, success/failure) to test if there is a significant change or difference in the **proportions before and after** an intervention or **between two related samples** (e.g., repeated measures).  \n",
    "- It is typically used in **pre-post studies** or studies where participants act as their **own controls** (e.g., testing a treatment's effectiveness on the same group of people at two points in time).\n",
    "- The test **is typically used** when the sample size is large enough. If the data has **cells** with very small counts (especially **less than 5**), it’s better to use **an exact version of McNemar's test** (binomial distribution rather than chi-square approximation).\n"
   ]
  },
  {
   "cell_type": "markdown",
   "id": "1726383c",
   "metadata": {},
   "source": [
    "# Example 1\n",
    "\n",
    "You want to test whether a new drug significantly reduces the number of smokers at the **5% significance level**. You ask **100 people** before and after taking the drug whether they smoke or not. The results are as follows:\n",
    "\n",
    "\n",
    "|             |   After: Yes |   After: No |\n",
    "|:------------|-------------:|------------:|\n",
    "| Before: Yes |           50 |          30 |\n",
    "| Before: No  |           10 |          10 |\n",
    "\n",
    "**Hypotheses:**\n",
    "- **Null Hypothesis (H0)**: The proportions of smokers before and after the treatment **are the same** (no effect of the drug).\n",
    "- **Alternative Hypothesis (H1)**: The proportions of smokers before and after the treatment **are different** (the drug has an effect).\n"
   ]
  },
  {
   "cell_type": "code",
   "execution_count": 42,
   "id": "8ff15636",
   "metadata": {
    "execution": {
     "iopub.execute_input": "2024-10-24T12:56:06.461333Z",
     "iopub.status.busy": "2024-10-24T12:56:06.460892Z",
     "iopub.status.idle": "2024-10-24T12:56:06.470810Z",
     "shell.execute_reply": "2024-10-24T12:56:06.469412Z",
     "shell.execute_reply.started": "2024-10-24T12:56:06.461280Z"
    }
   },
   "outputs": [
    {
     "name": "stdout",
     "output_type": "stream",
     "text": [
      "McNemar’s Test statistic: 9.025\n",
      "P-value: 0.002663119259138558\n",
      "The null hypothesis is rejected with 0.05 significance level\n"
     ]
    }
   ],
   "source": [
    "# Data\n",
    "table = [[50, 30], [10, 10]] # Contingency table \n",
    "a = 0.05                     # Signifance level\n",
    "\n",
    "# Calculations\n",
    "from statsmodels.stats.contingency_tables import mcnemar\n",
    "result = mcnemar(table, exact=False, correction=True) # McNemar test\n",
    "print(f'McNemar’s Test statistic: {result.statistic}')\n",
    "print(f'P-value: {result.pvalue}')\n",
    "\n",
    "# Conclusion\n",
    "conclude(result.pvalue, a)"
   ]
  },
  {
   "cell_type": "markdown",
   "id": "e477338c",
   "metadata": {},
   "source": [
    "# Cochran's Q Test\n",
    "\n",
    "- Cochran’s Q test is used when you have **three or more** related samples of binary (yes/no) data and you want to determine if there is a difference in proportions across the groups.\n",
    "- It’s an **extension of the McNemar test** for more than two related groups.\n",
    "- The same individual is measured across different groups, but observations between individuals must be independent."
   ]
  },
  {
   "cell_type": "markdown",
   "id": "895d0611",
   "metadata": {},
   "source": [
    "## Example 1\n",
    "\n",
    "A researcher tests three different marketing strategies on the same group of 10 customers to see if there is any difference in effectiveness (whether they made a purchase or not) at the **5% significance level**. The responses (1 = purchase, 0 = no purchase) are:\n",
    "\n",
    "| Customer    |   Strategy 1 | Strategy 2  | Strategy 3 |\n",
    "|:------------|-------------:|------------:|-----------:|\n",
    "| 1           |           1  |          0  |       1    |\n",
    "| 2           |           1  |          1  |       1    |\n",
    "| 3           |           0  |          0  |       0    |\n",
    "| ...         |          ... |        ...  |     ...    |\n",
    "| 10          |           1  |          1  |    0       |\n",
    "\n",
    "**Hypotheses:**\n",
    "- **Null Hypothesis (H0)**:  The proportion of purchases is the same across all three strategies.\n",
    "- **Alternative Hypothesis (H1)**: The proportion of purchases differs between at least two strategies."
   ]
  },
  {
   "cell_type": "code",
   "execution_count": 43,
   "id": "bf751e1f",
   "metadata": {
    "execution": {
     "iopub.execute_input": "2024-10-24T12:56:07.411601Z",
     "iopub.status.busy": "2024-10-24T12:56:07.411147Z",
     "iopub.status.idle": "2024-10-24T12:56:07.423147Z",
     "shell.execute_reply": "2024-10-24T12:56:07.421812Z",
     "shell.execute_reply.started": "2024-10-24T12:56:07.411558Z"
    }
   },
   "outputs": [
    {
     "name": "stdout",
     "output_type": "stream",
     "text": [
      "Cochran’s Q statistic: 15.092307692307692\n",
      "P-value: 0.08843144940176706\n",
      "The null hypothesis can't be rejected with 0.05 significance level\n"
     ]
    }
   ],
   "source": [
    "# Data\n",
    "data = pd.DataFrame({\n",
    "    'Strategy 1': [1, 1, 0, 1, 1, 1, 0, 1, 1, 1],\n",
    "    'Strategy 2': [0, 1, 0, 1, 1, 0, 0, 1, 0, 1],\n",
    "    'Strategy 3': [1, 1, 0, 0, 1, 1, 0, 1, 1, 0]\n",
    "})\n",
    "a = 0.05                               # Signifance level\n",
    "\n",
    "# Calculations\n",
    "result = sm.stats.cochrans_q(data.values.T) # Cochran's Q test\n",
    "print(f'Cochran’s Q statistic: {result.statistic}')\n",
    "print(f'P-value: {result.pvalue}')\n",
    "\n",
    "# Conclusion\n",
    "conclude(result.pvalue, a)"
   ]
  },
  {
   "cell_type": "markdown",
   "id": "cf0ffc5b",
   "metadata": {},
   "source": [
    "# Fisher's Exact Test \n",
    "\n",
    "- Fisher’s exact test is used to determine if there are non-random associations between **two categorical variables** in a **2x2 contingency table**, especially when sample sizes are small.\n",
    "- It’s an **alternative** to the **chi-square test of independence**(only when contingency table is 2x2) for small samples (when there is a **cell** having an expected frequency **less than 5**)."
   ]
  },
  {
   "cell_type": "markdown",
   "id": "a286799e",
   "metadata": {},
   "source": [
    "## Example 1\n",
    "\n",
    "You want to test whether gender influences job acceptance at the **5% significance level**. The data is:\n",
    "\n",
    "|        |   Accepted |   Rejected |\n",
    "|:-------|-----------:|-----------:|\n",
    "| Male   |          5 |         15 |\n",
    "| Female |         10 |          5 |\n",
    "\n",
    "**Hypotheses:**\n",
    "- **Null Hypothesis (H0)**:  There is no association between gender and job acceptance.\n",
    "- **Alternative Hypothesis (H1)**: There is an association between gender and job acceptance."
   ]
  },
  {
   "cell_type": "code",
   "execution_count": 44,
   "id": "f72b11b3",
   "metadata": {
    "execution": {
     "iopub.execute_input": "2024-10-24T12:56:07.548898Z",
     "iopub.status.busy": "2024-10-24T12:56:07.548455Z",
     "iopub.status.idle": "2024-10-24T12:56:07.560279Z",
     "shell.execute_reply": "2024-10-24T12:56:07.558870Z",
     "shell.execute_reply.started": "2024-10-24T12:56:07.548853Z"
    }
   },
   "outputs": [
    {
     "name": "stdout",
     "output_type": "stream",
     "text": [
      "Odds Ratio: 0.16666666666666666\n",
      "P-value: 0.019226750261233022\n",
      "The null hypothesis is rejected with 0.05 significance level\n"
     ]
    }
   ],
   "source": [
    "# Data\n",
    "table = [[5, 15], [10, 5]] # Contingency table\n",
    "a = 0.05                   # Signifance level\n",
    "\n",
    "# Calculations\n",
    "oddsratio, p_value = stats.fisher_exact(table, alternative='two-sided') # Fisher's Exact Test\n",
    "print(f'Odds Ratio: {oddsratio}')\n",
    "print(f'P-value: {p_value}')\n",
    "\n",
    "# Conclusion\n",
    "conclude(p_value, a)"
   ]
  },
  {
   "cell_type": "markdown",
   "id": "2c58822a",
   "metadata": {},
   "source": [
    "# Chi-Square Test of Independence\n",
    "\n",
    "- The Chi-Square Test of Independence is used to determine if there is a significant association between **two categorical variables** in a contingency table. \n",
    "- It can be used **both when there are 2 groups** in each category **and when there are more than 2 groups** in each category.\n",
    "- It is typically used when sample sizes are **larger** and expected frequencies are **5 or more in each cell**.\n",
    "- We can use Fisher's Exact Test when both **there is an expected frequency less than 5** and **there are exactly 2 groups** in each category.\n"
   ]
  },
  {
   "cell_type": "markdown",
   "id": "41581c2c",
   "metadata": {},
   "source": [
    "# Example 1\n",
    "\n",
    "You want to know if there is an association between people’s **preferred mode of transportation** (car, bus, bike) and their **region** (urban, suburban, rural) at the **5% significance level**. The data is:\n",
    "\n",
    "|          |   Car |   Bus | Bike  |\n",
    "|:---------|------:|------:|------:|\n",
    "| Urban    |    30 |    50 |     20|\n",
    "| Suburban |    40 |    20 |10     |\n",
    "| Rural    |    50 |    10 |20     |\n",
    "\n",
    "\n",
    "**Hypotheses:**\n",
    "- **Null Hypothesis (H0)**:  There is no association between mode of transportation and region.\n",
    "- **Alternative Hypothesis (H1)**: There is an association between mode of transportation and region."
   ]
  },
  {
   "cell_type": "code",
   "execution_count": 45,
   "id": "b84c978e",
   "metadata": {
    "execution": {
     "iopub.execute_input": "2024-10-24T12:56:08.525856Z",
     "iopub.status.busy": "2024-10-24T12:56:08.524971Z",
     "iopub.status.idle": "2024-10-24T12:56:08.535691Z",
     "shell.execute_reply": "2024-10-24T12:56:08.534412Z",
     "shell.execute_reply.started": "2024-10-24T12:56:08.525806Z"
    }
   },
   "outputs": [
    {
     "name": "stdout",
     "output_type": "stream",
     "text": [
      "Chi-square Statistic: 33.50446428571429\n",
      "P-value: 9.415664802819671e-07\n",
      "Degrees of Freedom: 4\n",
      "Expected frequencies:\n",
      "[[48.  32.  20. ]\n",
      " [33.6 22.4 14. ]\n",
      " [38.4 25.6 16. ]]\n",
      "The null hypothesis is rejected with 0.05 significance level\n"
     ]
    }
   ],
   "source": [
    "# Data\n",
    "a = 0.05        # Signifance level\n",
    "table = np.array([[30, 50, 20],\n",
    "                  [40, 20, 10],\n",
    "                  [50, 10, 20]])\n",
    "\n",
    "# Calculations\n",
    "chi2, p, dof, expected = stats.chi2_contingency(table) # Chi-square test of independence\n",
    "print(f'Chi-square Statistic: {chi2}')\n",
    "print(f'P-value: {p}')\n",
    "print(f'Degrees of Freedom: {dof}')\n",
    "print('Expected frequencies:')\n",
    "print(expected)\n",
    "\n",
    "# Conclusion\n",
    "conclude(p, a)"
   ]
  },
  {
   "cell_type": "markdown",
   "id": "de85b6c4",
   "metadata": {},
   "source": [
    "# Student’s t-test for Two Independent Samples\n",
    "\n",
    "- The Student’s t-test for two independent samples is used to determine if there is a **significant difference** between the means of **two independent groups** (e.g., comparing test scores of males and females).\n",
    "- The data in each group should be **approximately normally distributed**.\n",
    "- The **variances of the two groups** should be **equal** (homogeneity of variance).\n"
   ]
  },
  {
   "cell_type": "markdown",
   "id": "e8a4fad9",
   "metadata": {},
   "source": [
    "## Example 1\n",
    "\n",
    "Suppose we want to test whether there is a significant difference in the **test scores between two groups of students**: Group A and Group B at the **5% significance level**.\n",
    "\n",
    "Group A (n = 8) - [85, 88, 75, 89, 90, 93, 95, 85]   \n",
    "Group B (n = 8) - [78, 82, 75, 80, 85, 87, 84, 81]\n",
    "\n",
    "**Hypotheses:**\n",
    "- **Null Hypothesis (H0)**:  The means of the two groups are equal.\n",
    "- **Alternative Hypothesis (H1)**: The means of the two groups are different."
   ]
  },
  {
   "cell_type": "code",
   "execution_count": 46,
   "id": "39a1c0c7",
   "metadata": {
    "execution": {
     "iopub.execute_input": "2024-10-24T12:56:08.633794Z",
     "iopub.status.busy": "2024-10-24T12:56:08.633340Z",
     "iopub.status.idle": "2024-10-24T12:56:08.645932Z",
     "shell.execute_reply": "2024-10-24T12:56:08.644757Z",
     "shell.execute_reply.started": "2024-10-24T12:56:08.633751Z"
    }
   },
   "outputs": [
    {
     "name": "stdout",
     "output_type": "stream",
     "text": [
      "T-statistic: 2.334234060382259\n",
      "P-value: 0.03499868375429103\n",
      "The null hypothesis is rejected with 0.05 significance level\n"
     ]
    }
   ],
   "source": [
    "# Data\n",
    "group_A = [85, 88, 75, 89, 90, 93, 95, 85]\n",
    "group_B = [78, 82, 75, 80, 85, 87, 84, 81]\n",
    "a = 0.05        # Signifance level\n",
    "\n",
    "# Calculations\n",
    "t_stat, p_value = stats.ttest_ind(group_A, group_B) # Perform independent two-sample t-test\n",
    "print(f\"T-statistic: {t_stat}\")\n",
    "print(f\"P-value: {p_value}\")\n",
    "\n",
    "# Conclusion\n",
    "conclude(p_value, a)"
   ]
  },
  {
   "cell_type": "markdown",
   "id": "fd061e76",
   "metadata": {},
   "source": [
    "# Welch’s t-test for Two Independent Samples \n",
    "\n",
    "- Welch's t-test is used to compare the means of two independent samples **when the variances of the two groups are unequal**.\n",
    "- It is a **modification of the Student's t-test** that doesn't assume equal variances.\n",
    "- The data in each group should be **approximately normally distributed**."
   ]
  },
  {
   "cell_type": "markdown",
   "id": "830a5b0f",
   "metadata": {},
   "source": [
    "## Example 1\n",
    "\n",
    "Using Example 1 of the Student’s t-test for Two Independent Samples, we suspect that the variances in Group A and Group B are unequal at the **5% significance level**.\n",
    "\n",
    "**Hypotheses:**\n",
    "- **Null Hypothesis (H0)**:  The means of the two groups are equal.\n",
    "- **Alternative Hypothesis (H1)**: The means of the two groups are different."
   ]
  },
  {
   "cell_type": "code",
   "execution_count": 47,
   "id": "fcedb428",
   "metadata": {
    "execution": {
     "iopub.execute_input": "2024-10-24T12:56:09.246096Z",
     "iopub.status.busy": "2024-10-24T12:56:09.245628Z",
     "iopub.status.idle": "2024-10-24T12:56:09.257918Z",
     "shell.execute_reply": "2024-10-24T12:56:09.256520Z",
     "shell.execute_reply.started": "2024-10-24T12:56:09.246052Z"
    }
   },
   "outputs": [
    {
     "name": "stdout",
     "output_type": "stream",
     "text": [
      "Welch’s T-statistic: 2.334234060382259\n",
      "P-value: 0.03804312983947011\n",
      "The null hypothesis is rejected with 0.05 significance level\n"
     ]
    }
   ],
   "source": [
    "# Data\n",
    "group_A = [85, 88, 75, 89, 90, 93, 95, 85]\n",
    "group_B = [78, 82, 75, 80, 85, 87, 84, 81]\n",
    "a = 0.05        # Signifance level\n",
    "\n",
    "# Calculations\n",
    "t_stat, p_value = stats.ttest_ind(group_A, group_B, equal_var=False) # Perform Welch's t-test (setting equal_var to False)\n",
    "print(f\"Welch’s T-statistic: {t_stat}\")\n",
    "print(f\"P-value: {p_value}\")\n",
    "\n",
    "# Conclusion\n",
    "conclude(p_value, a)"
   ]
  },
  {
   "cell_type": "markdown",
   "id": "4825702c",
   "metadata": {},
   "source": [
    "# Mann-Whitney U Test\n",
    "\n",
    "- The Mann-Whitney U test is a **non-parametric test** used to determine if there is a difference in the **distribution of two independent samples**. \n",
    "- It assesses whether one group tends to **have higher or lower** values than the other by **comparing the ranks of the data** across groups.\n",
    "- It is used when **the assumption of normality is not met**.\n",
    "- The data can be **ordinal or continuous**, but does not need to be normally distributed."
   ]
  },
  {
   "cell_type": "markdown",
   "id": "1a0125e1",
   "metadata": {},
   "source": [
    "## Example 1\n",
    "\n",
    "Let’s say in **the Example 1 of the Student’s t-test for Two Independent Samples** the test scores in Group A and Group B are **not normally distributed**, and we want to test if there’s a difference in the distribution between these two groups at the **5% significance level**.\n",
    "\n",
    "**Hypotheses:**\n",
    "- **Null Hypothesis (H0)**:  The distributions of the two groups are the same.\n",
    "- **Alternative Hypothesis (H1)**: The distributions of the two groups are different."
   ]
  },
  {
   "cell_type": "code",
   "execution_count": 48,
   "id": "05c66777",
   "metadata": {
    "execution": {
     "iopub.execute_input": "2024-10-24T12:56:09.833378Z",
     "iopub.status.busy": "2024-10-24T12:56:09.832900Z",
     "iopub.status.idle": "2024-10-24T12:56:09.845977Z",
     "shell.execute_reply": "2024-10-24T12:56:09.844285Z",
     "shell.execute_reply.started": "2024-10-24T12:56:09.833324Z"
    }
   },
   "outputs": [
    {
     "name": "stdout",
     "output_type": "stream",
     "text": [
      "Mann-Whitney U statistic: 53.5\n",
      "P-value: 0.026856695507524397\n",
      "The null hypothesis is rejected with 0.05 significance level\n"
     ]
    }
   ],
   "source": [
    "# Data\n",
    "group_A = [85, 88, 75, 89, 90, 93, 95, 85]\n",
    "group_B = [78, 82, 75, 80, 85, 87, 84, 81]\n",
    "a = 0.05        # Signifance level\n",
    "\n",
    "# Calculations\n",
    "u_stat, p_value = stats.mannwhitneyu(group_A, group_B, alternative='two-sided') # Perform Mann-Whitney U test\n",
    "print(f\"Mann-Whitney U statistic: {u_stat}\")\n",
    "print(f\"P-value: {p_value}\")\n",
    "\n",
    "# Conclusion\n",
    "conclude(p_value, a)"
   ]
  },
  {
   "cell_type": "markdown",
   "id": "74c117c2",
   "metadata": {},
   "source": [
    "# Student’s t-test for Paired Samples(Paired t-test)\n",
    "\n",
    "- The paired t-test is used to compare the means of **two related(dependant) groups** (e.g., pre-test and post-test scores for the same group of individuals).\n",
    "- The difference between paired observations should be **normally distributed**."
   ]
  },
  {
   "cell_type": "markdown",
   "id": "12bd9bdb",
   "metadata": {},
   "source": [
    "## Example 1\n",
    "\n",
    "A group of **10 students** took a test before and after attending a training session. We want to test whether the training had a significant effect on their scores at the **5% significance level**.\n",
    "\n",
    "Before (n = 10) - [78, 85, 88, 92, 79, 81, 84, 89, 87, 85]   \n",
    "After (n = 10)  - [85, 90, 92, 94, 85, 88, 90, 91, 93, 89]\n",
    "\n",
    "**Hypotheses:**\n",
    "- **Null Hypothesis (H0)**:  The mean difference between the two related groups is zero.\n",
    "- **Alternative Hypothesis (H1)**: The mean difference between the two related groups is not zero."
   ]
  },
  {
   "cell_type": "code",
   "execution_count": 49,
   "id": "40474983",
   "metadata": {
    "execution": {
     "iopub.execute_input": "2024-10-24T12:56:10.559493Z",
     "iopub.status.busy": "2024-10-24T12:56:10.559041Z",
     "iopub.status.idle": "2024-10-24T12:56:10.570947Z",
     "shell.execute_reply": "2024-10-24T12:56:10.569753Z",
     "shell.execute_reply.started": "2024-10-24T12:56:10.559451Z"
    }
   },
   "outputs": [
    {
     "name": "stdout",
     "output_type": "stream",
     "text": [
      "Paired T-statistic: -8.362537822632042\n",
      "P-value: 1.5507965854085464e-05\n",
      "The null hypothesis is rejected with 0.05 significance level\n"
     ]
    }
   ],
   "source": [
    "# Data\n",
    "before = [78, 85, 88, 92, 79, 81, 84, 89, 87, 85]\n",
    "after  = [85, 90, 92, 94, 85, 88, 90, 91, 93, 89]\n",
    "a = 0.05        # Signifance level\n",
    "\n",
    "# Calculations\n",
    "t_stat, p_value = stats.ttest_rel(before, after) # Perform paired t-test\n",
    "print(f\"Paired T-statistic: {t_stat}\")\n",
    "print(f\"P-value: {p_value}\")\n",
    "\n",
    "# Conclusion\n",
    "conclude(p_value, a)"
   ]
  },
  {
   "cell_type": "markdown",
   "id": "27e27346",
   "metadata": {},
   "source": [
    "### Note\n",
    "**T-test on two related groups is same as One-sample t-test on the differences between those groups with popmean=0.**"
   ]
  },
  {
   "cell_type": "code",
   "execution_count": 50,
   "id": "965c7a4a",
   "metadata": {
    "execution": {
     "iopub.execute_input": "2024-10-24T12:56:10.715386Z",
     "iopub.status.busy": "2024-10-24T12:56:10.714919Z",
     "iopub.status.idle": "2024-10-24T12:56:10.725910Z",
     "shell.execute_reply": "2024-10-24T12:56:10.724629Z",
     "shell.execute_reply.started": "2024-10-24T12:56:10.715345Z"
    }
   },
   "outputs": [
    {
     "name": "stdout",
     "output_type": "stream",
     "text": [
      "T-statistic: -8.362537822632042\n",
      "P-value: 1.5507965854085464e-05\n",
      "The null hypothesis is rejected with 0.05 significance level\n"
     ]
    }
   ],
   "source": [
    "# Calculations\n",
    "t_stat, p_value = stats.ttest_1samp(np.array(before)-np.array(after), popmean=0) # Perform One-sample t-test\n",
    "print(f\"T-statistic: {t_stat}\")\n",
    "print(f\"P-value: {p_value}\")\n",
    "\n",
    "# Conclusion\n",
    "conclude(p_value, a)"
   ]
  },
  {
   "cell_type": "markdown",
   "id": "c859a516",
   "metadata": {},
   "source": [
    "# Wilcoxon Signed Rank Test\n",
    "\n",
    "- The Wilcoxon Signed Rank test is a **non-parametric alternative to the paired t-test**\n",
    "- It is used when the differences between paired samples are **not normally distributed**."
   ]
  },
  {
   "cell_type": "markdown",
   "id": "599f313d",
   "metadata": {},
   "source": [
    "## Example 1\n",
    "\n",
    "Let’s say in the Example 1 of Paired t-test the **differences** between the test scores before and after training **are not normally distributed**, so we want to use **the Wilcoxon Signed Rank test** instead.\n",
    "\n",
    "**Hypotheses:**\n",
    "- **Null Hypothesis (H0)**:  The median difference between the two related groups is zero.\n",
    "- **Alternative Hypothesis (H1)**: The median difference between the two related groups is not zero."
   ]
  },
  {
   "cell_type": "code",
   "execution_count": 51,
   "id": "41777962",
   "metadata": {
    "execution": {
     "iopub.execute_input": "2024-10-24T12:56:11.358135Z",
     "iopub.status.busy": "2024-10-24T12:56:11.357001Z",
     "iopub.status.idle": "2024-10-24T12:56:11.370003Z",
     "shell.execute_reply": "2024-10-24T12:56:11.368578Z",
     "shell.execute_reply.started": "2024-10-24T12:56:11.358086Z"
    }
   },
   "outputs": [
    {
     "name": "stdout",
     "output_type": "stream",
     "text": [
      "Wilcoxon Signed Rank statistic: 0.0\n",
      "P-value: 0.001953125\n",
      "The null hypothesis is rejected with 0.05 significance level\n"
     ]
    }
   ],
   "source": [
    "# Data\n",
    "before = [78, 85, 88, 92, 79, 81, 84, 89, 87, 85]\n",
    "after = [85, 90, 92, 94, 85, 88, 90, 91, 93, 89]\n",
    "a = 0.05        # Signifance level\n",
    "\n",
    "# Calculations\n",
    "w_stat, p_value = stats.wilcoxon(before, after) # Perform Wilcoxon Signed Rank test\n",
    "print(f\"Wilcoxon Signed Rank statistic: {w_stat}\")\n",
    "print(f\"P-value: {p_value}\")\n",
    "\n",
    "# Conclusion\n",
    "conclude(p_value, a)"
   ]
  },
  {
   "cell_type": "markdown",
   "id": "93cc1a7c",
   "metadata": {},
   "source": [
    "### Note\n",
    "**Wilcoxon Signed Rank Test on two related groups is same as One-sample Wilcoxon Signed Rank Test on the differences between those groups.**"
   ]
  },
  {
   "cell_type": "code",
   "execution_count": 52,
   "id": "df30d616",
   "metadata": {
    "execution": {
     "iopub.execute_input": "2024-10-24T12:56:11.975398Z",
     "iopub.status.busy": "2024-10-24T12:56:11.974949Z",
     "iopub.status.idle": "2024-10-24T12:56:11.986321Z",
     "shell.execute_reply": "2024-10-24T12:56:11.984872Z",
     "shell.execute_reply.started": "2024-10-24T12:56:11.975358Z"
    }
   },
   "outputs": [
    {
     "name": "stdout",
     "output_type": "stream",
     "text": [
      "Wilcoxon statistic: 0.0\n",
      "P-value: 0.001953125\n",
      "The null hypothesis is rejected with 0.05 significance level\n"
     ]
    }
   ],
   "source": [
    "# Calculations\n",
    "w_stat, p_value = stats.wilcoxon(np.array(before)-np.array(after)) # Perform One-sample Wilcoxon signed-rank test\n",
    "print(f\"Wilcoxon statistic: {w_stat}\")\n",
    "print(f\"P-value: {p_value}\")\n",
    "\n",
    "# Conclusion\n",
    "conclude(p_value, a)"
   ]
  },
  {
   "cell_type": "markdown",
   "id": "52a3fb39",
   "metadata": {},
   "source": [
    "# One-way ANOVA\n",
    "\n",
    "- One-way ANOVA is used to determine if there are **statistically significant** differences between the means of **three or more independent groups**. \n",
    "- It **extends the t-test** to more than two groups.\n",
    "- The data in each group should be **normally distributed**.\n",
    "- The variances of the groups should be approximately equal (**homoscedasticity**).\n",
    "\n",
    "I have [another notebook](https://www.kaggle.com/code/arthurarstamyan/one-way-two-way-anova) about **One-way** and **Two-way ANOVAs** with **more examples, explanations and functions** that calculate **F statistic** and create **ANOVA table** ."
   ]
  },
  {
   "cell_type": "markdown",
   "id": "b3cfbd66",
   "metadata": {},
   "source": [
    "## Example 1\n",
    "\n",
    "Suppose we want to test whether there is a difference in the **average test scores** of students from **three** different teaching methods at the **5% significance level**.\n",
    "\n",
    "Method 1 (n = 10) | 85, 88, 75, 89, 90, 93, 95, 85, 91, 87 |  \n",
    "Method 2 (n = 10) | 78, 82, 75, 80, 85, 87, 84, 81, 79, 80 |  \n",
    "Method 3 (n = 10) | 92, 94, 88, 90, 85, 87, 88, 92, 89, 90 |\n",
    "\n",
    "**Hypotheses:**\n",
    "- **Null Hypothesis (H0)**:  The means of the three groups are equal.\n",
    "- **Alternative Hypothesis (H1)**: At least one group mean is different."
   ]
  },
  {
   "cell_type": "code",
   "execution_count": 53,
   "id": "fd088bbe",
   "metadata": {
    "execution": {
     "iopub.execute_input": "2024-10-24T12:56:12.723359Z",
     "iopub.status.busy": "2024-10-24T12:56:12.722792Z",
     "iopub.status.idle": "2024-10-24T12:56:12.736060Z",
     "shell.execute_reply": "2024-10-24T12:56:12.734930Z",
     "shell.execute_reply.started": "2024-10-24T12:56:12.723249Z"
    }
   },
   "outputs": [
    {
     "name": "stdout",
     "output_type": "stream",
     "text": [
      "F-statistic: 11.75562913907285\n",
      "P-value: 0.00021265239960759433\n",
      "The null hypothesis is rejected with 0.05 significance level\n"
     ]
    }
   ],
   "source": [
    "# Data\n",
    "df = pd.DataFrame({'Method_1': [85, 88, 75, 89, 90, 93, 95, 85, 91, 87],\n",
    "                   'Method_2': [78, 82, 75, 80, 85, 87, 84, 81, 79, 80],\n",
    "                   'Method_3': [92, 94, 88, 90, 85, 87, 88, 92, 89, 90]})\n",
    "a = 0.05        # Signifance level\n",
    "\n",
    "# Calculations\n",
    "f_stat, p_value = stats.f_oneway(df['Method_1'], df['Method_2'], df['Method_3']) # Perform one-way ANOVA\n",
    "print(f\"F-statistic: {f_stat}\")\n",
    "print(f\"P-value: {p_value}\")\n",
    "\n",
    "# Conclusion\n",
    "conclude(p_value, a)"
   ]
  },
  {
   "cell_type": "markdown",
   "id": "49074208",
   "metadata": {},
   "source": [
    "# Welch’s ANOVA\n",
    "\n",
    "- Welch’s ANOVA is a **non-parametric version of one-way ANOVA** used when **the assumption of equal variances is violated**. \n",
    "- It compares the means of **three or more independent groups** without assuming equal variances.\n",
    "- The data in each group should be **normally distributed**."
   ]
  },
  {
   "cell_type": "markdown",
   "id": "cc0b5533",
   "metadata": {},
   "source": [
    "## Example 1\n",
    "\n",
    "Suppose we suspect that the variances between the groups in the Example 1 of One-way ANOVA are unequal.\n",
    "\n",
    "**Hypotheses:**\n",
    "- **Null Hypothesis (H0)**:  The means of the three groups are equal.\n",
    "- **Alternative Hypothesis (H1)**: At least one group mean is different."
   ]
  },
  {
   "cell_type": "code",
   "execution_count": null,
   "id": "4c2302a7",
   "metadata": {},
   "outputs": [],
   "source": [
    "!pip install pingouin"
   ]
  },
  {
   "cell_type": "code",
   "execution_count": 63,
   "id": "cdeafc7d",
   "metadata": {
    "execution": {
     "iopub.execute_input": "2024-10-24T12:57:14.480002Z",
     "iopub.status.busy": "2024-10-24T12:57:14.478982Z",
     "iopub.status.idle": "2024-10-24T12:57:14.501380Z",
     "shell.execute_reply": "2024-10-24T12:57:14.500144Z",
     "shell.execute_reply.started": "2024-10-24T12:57:14.479926Z"
    }
   },
   "outputs": [
    {
     "name": "stdout",
     "output_type": "stream",
     "text": [
      "F-statistic: 17.468263500900147\n",
      "P-value: 7.78352993037563e-05\n",
      "The null hypothesis is rejected with 0.05 significance level\n"
     ]
    }
   ],
   "source": [
    "# Data\n",
    "df = pd.DataFrame({'Method_1': [85, 88, 75, 89, 90, 93, 95, 85, 91, 87],\n",
    "                   'Method_2': [78, 82, 75, 80, 85, 87, 84, 81, 79, 80],\n",
    "                   'Method_3': [92, 94, 88, 90, 85, 87, 88, 92, 89, 90]})\n",
    "df_long = df.melt(var_name='Method', value_name='Score') # Prepare data in long format\n",
    "a = 0.05        # Signifance level\n",
    "\n",
    "# Calculations\n",
    "import pingouin as pg\n",
    "welch_anova = pg.welch_anova(dv='Score', between='Method', data=df_long) # Perform Welch's ANOVA\n",
    "_, _, _, f_stat, p_value, _ = welch_anova.iloc[0]\n",
    "print(f\"F-statistic: {f_stat}\")\n",
    "print(f\"P-value: {p_value}\")\n",
    "\n",
    "# Conclusion\n",
    "conclude(p_value, a)"
   ]
  },
  {
   "cell_type": "markdown",
   "id": "57a61886",
   "metadata": {},
   "source": [
    "# Kruskal-Wallis Test\n",
    "\n",
    "- The Kruskal-Wallis test is a **non-parametric alternative to one-way ANOVA** used when the data is **not normally distributed**. \n",
    "- It tests whether the distributions of **three or more independent groups** are the same."
   ]
  },
  {
   "cell_type": "markdown",
   "id": "e7768fc1",
   "metadata": {},
   "source": [
    "## Example 1\n",
    "\n",
    "Suppose in the Example 1 of One-way ANOVA the test scores are **not normally distributed**, and we want to use **the Kruskal-Wallis test** to compare the groups.\n",
    "\n",
    "**Hypotheses:**\n",
    "- **Null Hypothesis (H0)**: The distributions of the three groups are the same.\n",
    "- **Alternative Hypothesis (H1)**: The distributions of at least one group are different."
   ]
  },
  {
   "cell_type": "code",
   "execution_count": 55,
   "id": "8430e063",
   "metadata": {
    "execution": {
     "iopub.execute_input": "2024-10-24T12:56:30.316833Z",
     "iopub.status.busy": "2024-10-24T12:56:30.316022Z",
     "iopub.status.idle": "2024-10-24T12:56:30.335737Z",
     "shell.execute_reply": "2024-10-24T12:56:30.334352Z",
     "shell.execute_reply.started": "2024-10-24T12:56:30.316772Z"
    }
   },
   "outputs": [
    {
     "name": "stdout",
     "output_type": "stream",
     "text": [
      "Kruskal-Wallis H statistic: 14.538285970015677\n",
      "P-value: 0.0006967088278861448\n",
      "The null hypothesis is rejected with 0.05 significance level\n"
     ]
    }
   ],
   "source": [
    "# Data\n",
    "df = pd.DataFrame({'Method_1': [85, 88, 75, 89, 90, 93, 95, 85, 91, 87],\n",
    "                   'Method_2': [78, 82, 75, 80, 85, 87, 84, 81, 79, 80],\n",
    "                   'Method_3': [92, 94, 88, 90, 85, 87, 88, 92, 89, 90]})\n",
    "df_long = df.melt(var_name='Method', value_name='Score') # Prepare data in long format\n",
    "a = 0.05        # Signifance level\n",
    "\n",
    "# Calculations\n",
    "h_stat, p_value = stats.kruskal(df['Method_1'], df['Method_2'], df['Method_3']) # Perform Kruskal-Wallis test\n",
    "print(f\"Kruskal-Wallis H statistic: {h_stat}\")\n",
    "print(f\"P-value: {p_value}\")\n",
    "\n",
    "# Conclusion\n",
    "conclude(p_value, a)"
   ]
  },
  {
   "cell_type": "markdown",
   "id": "025ea9ad",
   "metadata": {},
   "source": [
    "# Repeated Measures ANOVA\n",
    "\n",
    "- Repeated measures ANOVA is used to determine if there are differences in the means across **three or more related groups**.\n",
    "- It is used when the **same subjects are measured multiple times** (e.g., pre-test, post-test, follow-up).\n",
    "- The variances of the differences between all combinations of groups should be equal(**Sphericity**).\n",
    "- The differences between related groups should be **normally distributed**."
   ]
  },
  {
   "cell_type": "markdown",
   "id": "c3b23aef",
   "metadata": {},
   "source": [
    "## Example 1\n",
    "\n",
    "A group of **10 students** took a test **before**, **immediately after**, and **three months after** a training session. We want to test if there is a significant difference in their scores over time.\n",
    "\n",
    "Before (n = 10) | 78, 85, 88, 92, 79, 81, 84, 89, 87, 85 |  \n",
    "After (n = 10) | 85, 90, 92, 94, 85, 88, 90, 91, 93, 89 |  \n",
    "3 Months After (n = 10) | 88, 93, 95, 92, 87, 89, 92, 94, 91, 90 |\n",
    "\n",
    "**Hypotheses:**\n",
    "- **Null Hypothesis (H0)**: The means of the three time points are equal.\n",
    "- **Alternative Hypothesis (H1)**: At least one time point mean is different."
   ]
  },
  {
   "cell_type": "code",
   "execution_count": 56,
   "id": "c3743a0f",
   "metadata": {
    "execution": {
     "iopub.execute_input": "2024-10-24T12:56:30.338318Z",
     "iopub.status.busy": "2024-10-24T12:56:30.337568Z",
     "iopub.status.idle": "2024-10-24T12:56:30.386715Z",
     "shell.execute_reply": "2024-10-24T12:56:30.385520Z",
     "shell.execute_reply.started": "2024-10-24T12:56:30.338258Z"
    }
   },
   "outputs": [
    {
     "name": "stdout",
     "output_type": "stream",
     "text": [
      "F-statistic: 42.39167862266845\n",
      "P-value: 1.5493422147807488e-07\n",
      "The null hypothesis is rejected with 0.05 significance level\n"
     ]
    }
   ],
   "source": [
    "# Data \n",
    "df_rm = pd.DataFrame({'Before': [78, 85, 88, 92, 79, 81, 84, 89, 87, 85],\n",
    "                      'After': [85, 90, 92, 94, 85, 88, 90, 91, 93, 89],\n",
    "                      'Months_After': [88, 93, 95, 92, 87, 89, 92, 94, 91, 90]})\n",
    "a = 0.05        # Signifance level\n",
    "\n",
    "# Calculations\n",
    "import pingouin as pg\n",
    "rm_anova = pg.rm_anova(df_rm) # Perform repeated measures ANOVA\n",
    "_, _, _, f_stat, p_value, _, _ = rm_anova.iloc[0]\n",
    "print(f\"F-statistic: {f_stat}\")\n",
    "print(f\"P-value: {p_value}\")\n",
    "\n",
    "# Conclusion\n",
    "conclude(p_value, a)"
   ]
  },
  {
   "cell_type": "markdown",
   "id": "3a9a3805",
   "metadata": {},
   "source": [
    "# Friedman Test\n",
    "\n",
    "- The Friedman test is a **non-parametric alternative to repeated measures ANOVA.**\n",
    "- It used when the data is **not normally distributed**. \n",
    "- It tests if there are differences in the distribution across **three or more related groups**."
   ]
  },
  {
   "cell_type": "markdown",
   "id": "82d9f8d0",
   "metadata": {},
   "source": [
    "## Example 1\n",
    "\n",
    "Let’s say the test scores **before**, **immediately after***, and **three months after** the training session are **not normally distributed**. We want to use **the Friedman test** to analyze the differences.\n",
    "\n",
    "**Hypotheses:**\n",
    "- **Null Hypothesis (H0)**: The distributions of the three time points are the same.\n",
    "- **Alternative Hypothesis (H1)**: The distributions of at least one time point are different."
   ]
  },
  {
   "cell_type": "code",
   "execution_count": 57,
   "id": "e6a5398e",
   "metadata": {
    "execution": {
     "iopub.execute_input": "2024-10-24T12:56:30.390172Z",
     "iopub.status.busy": "2024-10-24T12:56:30.389748Z",
     "iopub.status.idle": "2024-10-24T12:56:30.405809Z",
     "shell.execute_reply": "2024-10-24T12:56:30.404403Z",
     "shell.execute_reply.started": "2024-10-24T12:56:30.390128Z"
    }
   },
   "outputs": [
    {
     "name": "stdout",
     "output_type": "stream",
     "text": [
      "Friedman statistic: 15.435897435897449\n",
      "P-value: 0.00044477202166078673\n",
      "The null hypothesis is rejected with 0.05 significance level\n"
     ]
    }
   ],
   "source": [
    "# Data \n",
    "df_rm = pd.DataFrame({'Before': [78, 85, 88, 92, 79, 81, 84, 89, 87, 85],\n",
    "                      'After': [85, 90, 92, 94, 85, 88, 90, 91, 93, 89],\n",
    "                      'Months_After': [88, 93, 95, 92, 87, 89, 92, 94, 91, 90]})\n",
    "a = 0.05        # Signifance level\n",
    "\n",
    "# Calculations\n",
    "friedman_stat, p_value = stats.friedmanchisquare(df_rm['Before'], df_rm['After'], df_rm['Months_After']) # Perform Friedman test\n",
    "print(f\"Friedman statistic: {friedman_stat}\")\n",
    "print(f\"P-value: {p_value}\")\n",
    "\n",
    "# Conclusion\n",
    "conclude(p_value, a)"
   ]
  },
  {
   "cell_type": "markdown",
   "id": "91bc5fb0",
   "metadata": {},
   "source": [
    "# Pearson Correlation\n",
    "- Pearson correlation is used to measure the **linear relationship** between **two continuous variables**. \n",
    "- It ranges from **-1** (**perfect negative** linear correlation) to **1** (**perfect positive** linear correlation), with **0** indicating **no** linear correlation.\n",
    "- Both variables should be **normally distributed**.\n",
    "- The variance of one variable should be constant for all values of the other variable (**homoscedasticity**)."
   ]
  },
  {
   "cell_type": "markdown",
   "id": "53322c4b",
   "metadata": {},
   "source": [
    "## Example 1\n",
    "\n",
    "Suppose you want to determine the relationship between **students' study time** (hours per week) and their **exam scores**.\n",
    "\n",
    "|   Study Time (hrs) |   Exam Score |\n",
    "|------------------:|-------------:|\n",
    "|                 5 |           60 |\n",
    "|                10 |           65 |\n",
    "|                15 |           70 |\n",
    "|                20 |           75 |\n",
    "|                25 |           80 |\n",
    "|                30 |           85 |\n",
    "|                35 |           90 |\n",
    "|                40 |           95 |\n",
    "\n",
    "**Hypotheses:**\n",
    "- **Null Hypothesis (H0)**: There is no linear correlation between study time and exam score.\n",
    "- **Alternative Hypothesis (H1)**:  There is a linear correlation between study time and exam score."
   ]
  },
  {
   "cell_type": "code",
   "execution_count": 58,
   "id": "1fcb5596",
   "metadata": {
    "execution": {
     "iopub.execute_input": "2024-10-24T12:56:30.408242Z",
     "iopub.status.busy": "2024-10-24T12:56:30.407643Z",
     "iopub.status.idle": "2024-10-24T12:56:30.420991Z",
     "shell.execute_reply": "2024-10-24T12:56:30.419322Z",
     "shell.execute_reply.started": "2024-10-24T12:56:30.408177Z"
    }
   },
   "outputs": [
    {
     "name": "stdout",
     "output_type": "stream",
     "text": [
      "Pearson Correlation Coefficient: 1.0\n",
      "P-value: 0.0\n",
      "The null hypothesis is rejected with 0.05 significance level\n"
     ]
    }
   ],
   "source": [
    "# Data\n",
    "study_time = np.array([5, 10, 15, 20, 25, 30, 35, 40])\n",
    "exam_scores = np.array([60, 65, 70, 75, 80, 85, 90, 95])\n",
    "a = 0.05        # Signifance level\n",
    "\n",
    "# Calculations\n",
    "corr, p_value = stats.pearsonr(study_time, exam_scores) # Pearson correlation\n",
    "print(f\"Pearson Correlation Coefficient: {corr}\")\n",
    "print(f\"P-value: {p_value}\")\n",
    "\n",
    "# Conclusion\n",
    "conclude(p_value, a)"
   ]
  },
  {
   "cell_type": "markdown",
   "id": "27773196",
   "metadata": {},
   "source": [
    "# Spearman’s Rank Correlation\n",
    "\n",
    "- Spearman’s rank correlation is a **non-parametric test** used to assess the relationship between **two variables**. \n",
    "- It’s often used when data do not meet the assumptions required for Pearson correlation, such as **normality or linearity**.\n",
    "- It measures the **strength and direction** of the **monotonic relationship** (whether increasing or decreasing) between two ranked variables."
   ]
  },
  {
   "cell_type": "markdown",
   "id": "a2acfc9f",
   "metadata": {},
   "source": [
    "## Example 1\n",
    "\n",
    "Suppose we want to examine **the relationship** between students' **ranks in their school grades** and their **ranks in extracurricular achievements**.\n",
    "\n",
    "|   Grade Rank |   Activity Rank |\n",
    "|------------------:|-------------:|\n",
    "|                 1 |           2 |\n",
    "|                2 |           1 |\n",
    "|                3 |           4 |\n",
    "|                4 |           3 |\n",
    "|                5 |           6 |\n",
    "|                6 |            5|\n",
    "|                7 |            8|\n",
    "|                8 |           7 |\n",
    "\n",
    "**Hypotheses:**\n",
    "- **Null Hypothesis (H0)**: There is **no monotonic correlation** between grade rank and activity rank.\n",
    "- **Alternative Hypothesis (H1)**:  There **is a monotonic correlation** between grade rank and activity rank."
   ]
  },
  {
   "cell_type": "code",
   "execution_count": 59,
   "id": "841aa61d",
   "metadata": {
    "execution": {
     "iopub.execute_input": "2024-10-24T12:56:30.422700Z",
     "iopub.status.busy": "2024-10-24T12:56:30.422280Z",
     "iopub.status.idle": "2024-10-24T12:56:30.437187Z",
     "shell.execute_reply": "2024-10-24T12:56:30.435929Z",
     "shell.execute_reply.started": "2024-10-24T12:56:30.422651Z"
    }
   },
   "outputs": [
    {
     "name": "stdout",
     "output_type": "stream",
     "text": [
      "Spearman's Rank Correlation Coefficient: 0.9047619047619048\n",
      "P-value: 0.0020082755054294677\n",
      "The null hypothesis is rejected with 0.05 significance level\n"
     ]
    }
   ],
   "source": [
    "# Data\n",
    "grade_rank = np.array([1, 2, 3, 4, 5, 6, 7, 8])\n",
    "activity_rank = np.array([2, 1, 4, 3, 6, 5, 8, 7])\n",
    "a = 0.05        # Signifance level\n",
    "\n",
    "# Calculations\n",
    "spearman_corr, p_value = stats.spearmanr(grade_rank, activity_rank) # Spearman's rank correlation\n",
    "print(f\"Spearman's Rank Correlation Coefficient: {spearman_corr}\")\n",
    "print(f\"P-value: {p_value}\")\n",
    "\n",
    "# Conclusion\n",
    "conclude(p_value, a)"
   ]
  },
  {
   "cell_type": "markdown",
   "id": "63ce72f2",
   "metadata": {},
   "source": [
    "# Multiple Linear Regression\n",
    "\n",
    "- Multiple linear regression is used to **model the relationship** between **one dependent variable** (continuous) and **two or more independent variables** (continuous or categorical). \n",
    "- It aims **to predict** the dependent variable based on the independent variables.\n",
    "- The observations are independent of each other.\n",
    "- The variance of errors is constant across all levels of the independent variables(**Homoscedasticity**).\n",
    "- The residuals (errors) should follow a **normal distribution**.\n",
    "- The independent variables should not be too highly correlated with each other(**No multicollinearity**)."
   ]
  },
  {
   "cell_type": "markdown",
   "id": "010f3692",
   "metadata": {},
   "source": [
    "## Example 1\n",
    "\n",
    "Suppose we want to **predict the exam score** of students based on their **study time** (hours per week) and **the number of assignments** they completed.\n",
    "\n",
    "|   Study Time (hrs)|   Assignments|   Exam Score |\n",
    "|------------------:|-------------:|-------------:|\n",
    "|                 5 |            2 |           60 |\n",
    "|                10 |            3 |           65 |\n",
    "|                15 |            4 |           70 |\n",
    "|                20 |            5 |           75 |\n",
    "|                25 |            6 |           80 |\n",
    "|                30 |            7 |           85 |\n",
    "|                35 |            8 |           90 |\n",
    "|                40 |            9 |           95 |\n",
    "\n",
    "**Hypotheses:**\n",
    "- **Null Hypothesis (H0)**: The coefficients for the independent variables(study time and assignments) are 0 (i.e., they do not predict exam scores).\n",
    "- **Alternative Hypothesis (H1)**: At least one of the coefficients is not 0 (i.e., they do predict exam scores)."
   ]
  },
  {
   "cell_type": "code",
   "execution_count": 60,
   "id": "9ca082c6",
   "metadata": {
    "execution": {
     "iopub.execute_input": "2024-10-24T12:56:30.439917Z",
     "iopub.status.busy": "2024-10-24T12:56:30.438777Z",
     "iopub.status.idle": "2024-10-24T12:56:30.462345Z",
     "shell.execute_reply": "2024-10-24T12:56:30.461258Z",
     "shell.execute_reply.started": "2024-10-24T12:56:30.439851Z"
    }
   },
   "outputs": [
    {
     "name": "stdout",
     "output_type": "stream",
     "text": [
      "                            OLS Regression Results                            \n",
      "==============================================================================\n",
      "Dep. Variable:                      y   R-squared:                       1.000\n",
      "Model:                            OLS   Adj. R-squared:                  1.000\n",
      "Method:                 Least Squares   F-statistic:                 5.449e+29\n",
      "Date:                Thu, 24 Oct 2024   Prob (F-statistic):           4.17e-88\n",
      "Time:                        12:56:30   Log-Likelihood:                 235.85\n",
      "No. Observations:                   8   AIC:                            -467.7\n",
      "Df Residuals:                       6   BIC:                            -467.6\n",
      "Df Model:                           1                                         \n",
      "Covariance Type:            nonrobust                                         \n",
      "==============================================================================\n",
      "                 coef    std err          t      P>|t|      [0.025      0.975]\n",
      "------------------------------------------------------------------------------\n",
      "const         27.9412   1.76e-14   1.59e+15      0.000      27.941      27.941\n",
      "x1            -4.4118   4.58e-15  -9.64e+14      0.000      -4.412      -4.412\n",
      "x2            27.0588   1.66e-14   1.63e+15      0.000      27.059      27.059\n",
      "==============================================================================\n",
      "Omnibus:                        2.142   Durbin-Watson:                   0.109\n",
      "Prob(Omnibus):                  0.343   Jarque-Bera (JB):                0.990\n",
      "Skew:                          -0.831   Prob(JB):                        0.609\n",
      "Kurtosis:                       2.544   Cond. No.                     4.18e+16\n",
      "==============================================================================\n",
      "\n",
      "Notes:\n",
      "[1] Standard Errors assume that the covariance matrix of the errors is correctly specified.\n",
      "[2] The smallest eigenvalue is 3.09e-30. This might indicate that there are\n",
      "strong multicollinearity problems or that the design matrix is singular.\n"
     ]
    },
    {
     "name": "stderr",
     "output_type": "stream",
     "text": [
      "/opt/conda/lib/python3.10/site-packages/scipy/stats/_axis_nan_policy.py:418: UserWarning: `kurtosistest` p-value may be inaccurate with fewer than 20 observations; only n=8 observations were given.\n",
      "  return hypotest_fun_in(*args, **kwds)\n"
     ]
    }
   ],
   "source": [
    "# Data\n",
    "study_time = np.array([5, 10, 15, 20, 25, 30, 35, 40])\n",
    "assignments = np.array([2, 3, 4, 5, 6, 7, 8, 9])\n",
    "exam_scores = np.array([60, 65, 70, 75, 80, 85, 90, 95])\n",
    "X = np.column_stack((study_time, assignments)) # Independent variables\n",
    "X = sm.add_constant(X)\n",
    "y = exam_scores # Dependent variable\n",
    "\n",
    "# Calculations\n",
    "model = sm.OLS(y, X).fit()\n",
    "print(model.summary())"
   ]
  },
  {
   "cell_type": "markdown",
   "id": "fd68aa5e",
   "metadata": {},
   "source": [
    "- The p-values for **StudyTime** and **Assignments** are 0.000, **so we reject the null hypothesis for both**, meaning that **both variables are significant predictors of exam score**.\n",
    "- The overall **F-statistic** is significant (p < 0.05), indicating that the model as a whole fits the data well."
   ]
  },
  {
   "cell_type": "markdown",
   "id": "2519cc93",
   "metadata": {},
   "source": [
    "# Binary Logistic Regression\n",
    "\n",
    "- Binary logistic regression is used to model the **relationship** between a **binary dependent variable** (e.g., success/failure, pass/fail, yes/no) and **one or more independent variables.**\n",
    "- The **output** is the **probability of the dependent variable being 1** (success).\n",
    "- Each observation is independent of the others.\n",
    "- **No multicollinearity** among the independent variables."
   ]
  },
  {
   "cell_type": "markdown",
   "id": "257f0a3d",
   "metadata": {},
   "source": [
    "## Example 1\n",
    "\n",
    "Suppose we want to predict whether students will **pass** an exam based on their **study hours** and **the number of assignments** completed.\n",
    "\n",
    "|   Study Hours     |   Assignments|   Pass (1=Yes, 0=No) |\n",
    "|------------------:|-------------:|---------------------:|\n",
    "|                 5 |            2 |           0          |\n",
    "|                10 |            3 |           0          |\n",
    "|                15 |            4 |           0          |\n",
    "|                20 |            5 |           1          |\n",
    "|                25 |            6 |           1          |\n",
    "|                30 |            7 |           1          |\n",
    "\n",
    "**Hypotheses:**\n",
    "- **Null Hypothesis (H0)**: Study hours and assignments do not predict whether a student passes the exam.\n",
    "- **Alternative Hypothesis (H1)**: Study hours and assignments predict whether a student passes the exam."
   ]
  },
  {
   "cell_type": "code",
   "execution_count": 61,
   "id": "8c91b60a",
   "metadata": {
    "execution": {
     "iopub.execute_input": "2024-10-24T12:56:30.464921Z",
     "iopub.status.busy": "2024-10-24T12:56:30.464437Z",
     "iopub.status.idle": "2024-10-24T12:56:30.511635Z",
     "shell.execute_reply": "2024-10-24T12:56:30.510023Z",
     "shell.execute_reply.started": "2024-10-24T12:56:30.464867Z"
    }
   },
   "outputs": [
    {
     "name": "stdout",
     "output_type": "stream",
     "text": [
      "Optimization terminated successfully.\n",
      "         Current function value: 0.676113\n",
      "         Iterations 4\n",
      "                           Logit Regression Results                           \n",
      "==============================================================================\n",
      "Dep. Variable:                      y   No. Observations:                  100\n",
      "Model:                          Logit   Df Residuals:                       97\n",
      "Method:                           MLE   Df Model:                            2\n",
      "Date:                Thu, 24 Oct 2024   Pseudo R-squ.:                0.001101\n",
      "Time:                        12:56:30   Log-Likelihood:                -67.611\n",
      "converged:                       True   LL-Null:                       -67.686\n",
      "Covariance Type:            nonrobust   LLR p-value:                    0.9282\n",
      "==============================================================================\n",
      "                 coef    std err          z      P>|z|      [0.025      0.975]\n",
      "------------------------------------------------------------------------------\n",
      "const          0.2281      0.566      0.403      0.687      -0.881       1.337\n",
      "x1             0.0096      0.025      0.385      0.700      -0.039       0.059\n",
      "x2            -0.0009      0.068     -0.013      0.990      -0.135       0.133\n",
      "==============================================================================\n"
     ]
    }
   ],
   "source": [
    "# When using original data PerfectSeparationError occurs\n",
    "# Data \n",
    "study_hours = np.random.randint(1, 31, 100) #[5, 10, 15, 20, 25, 30]\n",
    "assignments = np.random.randint(1, 11, 100) #[2, 3, 4, 5, 6, 7]\n",
    "pass_fail = np.random.randint(0, 2, 100)    #[0, 0, 0, 1, 1, 1]\n",
    "X = np.column_stack((study_hours, assignments)) # Independent variables\n",
    "X = sm.add_constant(X)\n",
    "y = pass_fail # Dependent variable\n",
    "\n",
    "# Calculations\n",
    "model = sm.Logit(y, X).fit() # Fit the binary logistic regression model\n",
    "print(model.summary())\n",
    "# The summary will provide coefficients and p-values for each variable.\n",
    "# If the p-value for the coefficients is less than 0.05, reject the null hypothesis, \n",
    "# indicating that the independent variables significantly predict the probability of passing."
   ]
  },
  {
   "cell_type": "markdown",
   "id": "6e1aabef",
   "metadata": {},
   "source": [
    "# Multinomial Logistic Regression\n",
    "\n",
    "- Multinomial logistic regression is used when the **dependent variable is categorical with more than two categories**. \n",
    "- It models the **relationship** between the **independent variables** and **the probabilities** of the various outcomes.\n",
    "- The independent variables should not be too highly correlated with one another(**No multicollinearity**)."
   ]
  },
  {
   "cell_type": "markdown",
   "id": "8e5ad3da",
   "metadata": {},
   "source": [
    "## Example 1\n",
    "\n",
    "Suppose we want to predict a **student's choice** of study program based on their **GPA** and **the number of extracurricular activities** they participate in. The possible study programs are: **Science**, **Arts**, and **Commerce**.\n",
    "\n",
    "|   GPA|   Extracurriculars|   Program |\n",
    "|------------------:|-------------:|-------------:|\n",
    "|                3.5 |            2 | Science |\n",
    "|                3.7 |            3 |     Arts |\n",
    "|                3.2 |            1 |      Commerce |\n",
    "|                3.8 |            4 |    Science |\n",
    "|                3.6 |            2 |           Arts |\n",
    "|                3.1 |            1 |    Commerce |\n",
    "|                3.9 |            5 |     Science |\n",
    "|                3.4 |            2 |      Arts |\n",
    "\n",
    "**Hypotheses:**\n",
    "- **Null Hypothesis (H0)**: GPA and extracurricular activities **do not predict** a student's choice of study program.\n",
    "- **Alternative Hypothesis (H1)**: GPA and extracurricular activities **predict** a student's choice of study program."
   ]
  },
  {
   "cell_type": "code",
   "execution_count": 62,
   "id": "0cf00537",
   "metadata": {
    "execution": {
     "iopub.execute_input": "2024-10-24T12:56:37.712479Z",
     "iopub.status.busy": "2024-10-24T12:56:37.712032Z",
     "iopub.status.idle": "2024-10-24T12:56:37.794785Z",
     "shell.execute_reply": "2024-10-24T12:56:37.792896Z",
     "shell.execute_reply.started": "2024-10-24T12:56:37.712435Z"
    }
   },
   "outputs": [
    {
     "name": "stdout",
     "output_type": "stream",
     "text": [
      "Optimization terminated successfully.\n",
      "         Current function value: 0.656971\n",
      "         Iterations 4\n",
      "Optimization terminated successfully.\n",
      "         Current function value: 0.625867\n",
      "         Iterations 5\n",
      "Model for Science:\n",
      "                           Logit Regression Results                           \n",
      "==============================================================================\n",
      "Dep. Variable:        Program_Science   No. Observations:                  100\n",
      "Model:                          Logit   Df Residuals:                       97\n",
      "Method:                           MLE   Df Model:                            2\n",
      "Date:                Thu, 24 Oct 2024   Pseudo R-squ.:                0.003011\n",
      "Time:                        12:56:37   Log-Likelihood:                -65.697\n",
      "converged:                       True   LL-Null:                       -65.896\n",
      "Covariance Type:            nonrobust   LLR p-value:                    0.8200\n",
      "====================================================================================\n",
      "                       coef    std err          z      P>|z|      [0.025      0.975]\n",
      "------------------------------------------------------------------------------------\n",
      "const                0.7806      2.378      0.328      0.743      -3.880       5.441\n",
      "GPA                 -0.4071      0.683     -0.596      0.551      -1.746       0.932\n",
      "Extracurriculars     0.0186      0.081      0.230      0.818      -0.140       0.177\n",
      "====================================================================================\n",
      "\n",
      "Model for Commerce:\n",
      "                           Logit Regression Results                           \n",
      "==============================================================================\n",
      "Dep. Variable:       Program_Commerce   No. Observations:                  100\n",
      "Model:                          Logit   Df Residuals:                       97\n",
      "Method:                           MLE   Df Model:                            2\n",
      "Date:                Thu, 24 Oct 2024   Pseudo R-squ.:                0.001600\n",
      "Time:                        12:56:37   Log-Likelihood:                -62.587\n",
      "converged:                       True   LL-Null:                       -62.687\n",
      "Covariance Type:            nonrobust   LLR p-value:                    0.9046\n",
      "====================================================================================\n",
      "                       coef    std err          z      P>|z|      [0.025      0.975]\n",
      "------------------------------------------------------------------------------------\n",
      "const               -0.0816      2.451     -0.033      0.973      -4.886       4.723\n",
      "GPA                 -0.1488      0.704     -0.212      0.832      -1.528       1.230\n",
      "Extracurriculars    -0.0321      0.084     -0.383      0.702      -0.196       0.132\n",
      "====================================================================================\n"
     ]
    }
   ],
   "source": [
    "# When using original data PerfectSeparationError occurs\n",
    "# Data\n",
    "df = pd.DataFrame({\n",
    "    'GPA': 3 + np.random.rand(100),  #[3.5, 3.7, 3.2, 3.8, 3.6, 3.1, 3.9, 3.4],\n",
    "    'Extracurriculars': np.random.randint(1, 10, 100),  #[2, 3, 1, 4, 2, 1, 5, 2],\n",
    "    'Program': np.random.choice(['Science', 'Arts', 'Commerce'], 100)   #['Science', 'Arts', 'Commerce', 'Science', 'Arts', 'Commerce', 'Science', 'Arts']\n",
    "})\n",
    "\n",
    "df = pd.get_dummies(df, columns=['Program'], drop_first=True) # One-hot encoding for the dependent variable\n",
    "X = df[['GPA', 'Extracurriculars']] # Define independent variables\n",
    "X = sm.add_constant(X)  # Add an intercept term to the model \n",
    "y = df[['Program_Science', 'Program_Commerce']]  # using \"Arts\" and \"Commerce\" as the target\n",
    "\n",
    "# Fit the multinomial logistic regression model using the sm.Logit method for each category\n",
    "model_science = sm.Logit(y['Program_Science'], X).fit()\n",
    "model_commerce = sm.Logit(y['Program_Commerce'], X).fit()\n",
    "\n",
    "# Print the summary for both models\n",
    "print(\"Model for Science:\")\n",
    "print(model_science.summary())\n",
    "print(\"\\nModel for Commerce:\")\n",
    "print(model_commerce.summary())"
   ]
  }
 ],
 "metadata": {
  "kaggle": {
   "accelerator": "none",
   "dataSources": [],
   "dockerImageVersionId": 30786,
   "isGpuEnabled": false,
   "isInternetEnabled": true,
   "language": "python",
   "sourceType": "notebook"
  },
  "kernelspec": {
   "display_name": "Python 3 (ipykernel)",
   "language": "python",
   "name": "python3"
  },
  "language_info": {
   "codemirror_mode": {
    "name": "ipython",
    "version": 3
   },
   "file_extension": ".py",
   "mimetype": "text/x-python",
   "name": "python",
   "nbconvert_exporter": "python",
   "pygments_lexer": "ipython3",
   "version": "3.9.13"
  }
 },
 "nbformat": 4,
 "nbformat_minor": 5
}
